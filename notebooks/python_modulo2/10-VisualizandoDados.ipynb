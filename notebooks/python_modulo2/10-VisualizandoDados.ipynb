{
 "cells": [
  {
   "cell_type": "markdown",
   "id": "72697d94",
   "metadata": {},
   "source": [
    "# 10 - Visualizando Dados\n",
    "\n",
    "Visualização de dados em Python é o processo de criar gráficos e outras representações visuais para explorar, analisar e comunicar informações de dados de forma clara e intuitiva. Algumas das bibliotecas mais populares para visualização de dados em Python incluem:\n",
    "\n",
    "- **Matplotlib:** A biblioteca mais básica e flexível para criar gráficos como linhas, barras, dispersões, histogramas, entre outros. https://matplotlib.org/\n",
    "- **Seaborn:** Baseada no Matplotlib, mas com uma interface mais amigável e gráficos mais bonitos por padrão. É ótima para visualizações estatísticas, como box plots, heatmaps e gráficos de distribuição. https://seaborn.pydata.org/\n",
    "- **Plotly:** Uma biblioteca interativa que permite criar gráficos dinâmicos, como gráficos de dispersão, de linha, e gráficos 3D. https://plotly.com/\n"
   ]
  },
  {
   "cell_type": "markdown",
   "id": "e34dd852-b3e7-4c05-ba32-e6be4978d5d8",
   "metadata": {
    "jp-MarkdownHeadingCollapsed": true
   },
   "source": [
    "## Exemplo 1"
   ]
  },
  {
   "cell_type": "code",
   "execution_count": null,
   "id": "e45774ba-7275-4ad7-a954-e67d2d30c8cf",
   "metadata": {},
   "outputs": [],
   "source": [
    "import matplotlib.pyplot as plt"
   ]
  },
  {
   "cell_type": "code",
   "execution_count": null,
   "id": "441e1dc8-d6bd-422f-a08d-f40567dc3669",
   "metadata": {},
   "outputs": [],
   "source": [
    "# Criando alguns dados\n",
    "dados = {\n",
    "    'Meses': ['Jan', 'Fev', 'Mar', 'Abr', 'Mai', 'Jun', 'Jul', 'Ago', 'Set', 'Out', 'Nov', 'Dez'],\n",
    "    'Vendas': [250, 300, 350, 400, 500, 450, 550, 600, 650, 700, 800, 900]\n",
    "}"
   ]
  },
  {
   "cell_type": "code",
   "execution_count": null,
   "id": "13fb93d8-28e4-421b-954c-9aacd0a04e5b",
   "metadata": {},
   "outputs": [],
   "source": [
    "# Criando o gráfico de barras\n",
    "plt.figure(figsize=(8, 5))\n",
    "plt.bar(dados['Meses'], dados['Vendas'], color='skyblue')\n",
    "\n",
    "# Adicionando título e rótulos aos eixos\n",
    "plt.title('Vendas Mensais ao Longo do Ano', fontsize=16)\n",
    "plt.xlabel('Meses', fontsize=12)\n",
    "plt.ylabel('Vendas (em unidades)', fontsize=12)\n",
    "\n",
    "# Exibindo o gráfico\n",
    "plt.show()"
   ]
  },
  {
   "cell_type": "code",
   "execution_count": null,
   "id": "763e9ffb-0234-4bd1-ae3e-43bdbe4e1e3f",
   "metadata": {},
   "outputs": [],
   "source": [
    "# Criando o gráfico de linha\n",
    "plt.figure(figsize=(8, 5))\n",
    "plt.plot(dados['Meses'], dados['Vendas'], color='red')\n",
    "\n",
    "# Adicionando título e rótulos aos eixos\n",
    "plt.title('Vendas Mensais ao Longo do Ano', fontsize=16)\n",
    "plt.xlabel('Meses', fontsize=12)\n",
    "plt.ylabel('Vendas (em unidades)', fontsize=12)\n",
    "plt.grid()\n",
    "\n",
    "# Exibindo o gráfico\n",
    "plt.show()"
   ]
  },
  {
   "cell_type": "code",
   "execution_count": null,
   "id": "ee2db29b-f719-4e84-99ea-8cb2de1fd369",
   "metadata": {},
   "outputs": [],
   "source": [
    "# Criando o gráfico de barras\n",
    "plt.figure(figsize=(8, 5))\n",
    "plt.bar(dados['Meses'], dados['Vendas'], color='skyblue')\n",
    "plt.plot(dados['Meses'], dados['Vendas'], color='red')\n",
    "\n",
    "# Adicionando título e rótulos aos eixos\n",
    "plt.title('Vendas Mensais ao Longo do Ano', fontsize=16)\n",
    "plt.xlabel('Meses', fontsize=12)\n",
    "plt.ylabel('Vendas (em unidades)', fontsize=12)\n",
    "plt.grid()\n",
    "\n",
    "# Exibindo o gráfico\n",
    "plt.show()"
   ]
  },
  {
   "cell_type": "markdown",
   "id": "b8afa5e7-93e8-4861-8b4f-f3451454f9cc",
   "metadata": {
    "jp-MarkdownHeadingCollapsed": true
   },
   "source": [
    "## Exemplo 2"
   ]
  },
  {
   "cell_type": "code",
   "execution_count": null,
   "id": "c3d5cd27-eace-435a-a7d4-1a68c4d7f0a4",
   "metadata": {},
   "outputs": [],
   "source": [
    "import pandas as pd"
   ]
  },
  {
   "cell_type": "code",
   "execution_count": null,
   "id": "abcdddae-56ac-475d-ad7b-da697124e373",
   "metadata": {},
   "outputs": [],
   "source": [
    "dados = [\n",
    "    [\"João\", 8.5, 9.0],\n",
    "    [\"Maria\", 7.0, 8.5],\n",
    "    [\"Pedro\", 6.5, 7.5],\n",
    "    [\"Ana\", 9.0, 9.5],\n",
    "    [\"Lucas\", 5.5, 6.0],\n",
    "    [\"Julia\", 8.0, 7.0],\n",
    "    [\"Ronaldo\", 8.0, 7.0],\n",
    "    [\"Mariana\", 6.0, 10.0],\n",
    "    [\"Jonas\", 7.0, 4.0],\n",
    "    [\"Fernanda\", 7.5, 7.0],\n",
    "    [\"Beatriz\", 4.5, 8.0],\n",
    "]"
   ]
  },
  {
   "cell_type": "code",
   "execution_count": null,
   "id": "076da32d-f78d-4f28-a4f6-dd302b2dc6f0",
   "metadata": {},
   "outputs": [],
   "source": [
    "df = pd.DataFrame(dados, columns=[\"Nome\", \"Estatística\", \"Programação\"])"
   ]
  },
  {
   "cell_type": "code",
   "execution_count": null,
   "id": "38bad162-4c3c-42d5-87bb-7d9ca421bda9",
   "metadata": {},
   "outputs": [],
   "source": [
    "df"
   ]
  },
  {
   "cell_type": "code",
   "execution_count": null,
   "id": "541388df-9d2e-49e3-bab1-a3274e97c7e1",
   "metadata": {},
   "outputs": [],
   "source": [
    "plt.figure(figsize=(8, 5))\n",
    "plt.scatter(x=df['Estatística'], y=df['Programação'])\n",
    "plt.xlabel('Nota em Estatística', fontsize=12)\n",
    "plt.ylabel('Nota em Programação', fontsize=12)"
   ]
  },
  {
   "cell_type": "code",
   "execution_count": null,
   "id": "4589cd03-4ca5-49d0-beee-16e4e95abd6b",
   "metadata": {},
   "outputs": [],
   "source": [
    "import seaborn as sns"
   ]
  },
  {
   "cell_type": "code",
   "execution_count": null,
   "id": "c46ef026-7ade-464b-81c5-8b38b04fdc61",
   "metadata": {},
   "outputs": [],
   "source": [
    "plt.figure(figsize=(8, 5))\n",
    "sns.barplot(data=df, x='Nome', y='Estatística', alpha=0.5, color='red')\n",
    "sns.barplot(data=df, x='Nome', y='Programação', alpha=0.5, color='blue')\n",
    "plt.xlabel('Aluno', fontsize=12)\n",
    "plt.ylabel('Nota em Programação', fontsize=12)\n",
    "plt.xticks(rotation=45)"
   ]
  },
  {
   "cell_type": "code",
   "execution_count": null,
   "id": "4e0d18b8-7e84-432d-9e1c-1d1f39b24ae3",
   "metadata": {},
   "outputs": [],
   "source": [
    "df_long = pd.melt(df, id_vars=[\"Nome\"], value_vars=[\"Estatística\", \"Programação\"], var_name=\"Disciplina\", value_name=\"Nota\")\n",
    "\n",
    "# Criando o gráfico de barras\n",
    "plt.figure(figsize=(8, 5))\n",
    "sns.barplot(data=df_long, x='Nome', y='Nota', hue='Disciplina', alpha=0.7, palette=['red','blue'])\n",
    "\n",
    "# Ajustando rótulos e título\n",
    "plt.xlabel('Aluno', fontsize=12)\n",
    "plt.ylabel('Nota', fontsize=12)\n",
    "plt.title('Notas em Estatística e Programação', fontsize=14)\n",
    "plt.xticks(rotation=45)\n",
    "plt.legend()\n",
    "\n",
    "plt.show()"
   ]
  },
  {
   "cell_type": "code",
   "execution_count": null,
   "id": "07991601-7161-4d9c-a361-59a504de23fb",
   "metadata": {},
   "outputs": [],
   "source": [
    "media_programacao = df['Programação'].mean()\n",
    "media_estatistica = df['Estatística'].mean()\n",
    "\n",
    "# Criando o gráfico de barras\n",
    "plt.figure(figsize=(8, 5))\n",
    "sns.barplot(data=df_long, x='Nome', y='Nota', hue='Disciplina', alpha=0.7, palette=['red','blue'])\n",
    "\n",
    "\n",
    "plt.axhline(y=media_programacao, color='blue', linestyle='--', label=f'Média Programação ({media_programacao:.2f})')\n",
    "plt.axhline(y=media_estatistica, color='red', linestyle='--', label=f'Média Estatística ({media_estatistica:.2f})')\n",
    "\n",
    "\n",
    "plt.xlabel('Aluno', fontsize=12)\n",
    "plt.ylabel('Nota', fontsize=12)\n",
    "plt.title('Notas em Estatística e Programação', fontsize=14)\n",
    "plt.xticks(rotation=45)\n",
    "plt.legend(loc='lower right')\n",
    "\n",
    "plt.show()"
   ]
  },
  {
   "cell_type": "markdown",
   "id": "550bbb86-c287-4a98-9af6-dd07557760de",
   "metadata": {
    "jp-MarkdownHeadingCollapsed": true
   },
   "source": [
    "## Exemplo 3"
   ]
  },
  {
   "cell_type": "code",
   "execution_count": null,
   "id": "6fe1a1ed-8069-41b5-b6a7-428104c5fdd4",
   "metadata": {},
   "outputs": [],
   "source": [
    "import seaborn as sns"
   ]
  },
  {
   "cell_type": "code",
   "execution_count": null,
   "id": "e9391849-6225-4112-a99b-e0594e964144",
   "metadata": {},
   "outputs": [],
   "source": [
    "# Carregando o dataset Iris\n",
    "iris = sns.load_dataset('iris')"
   ]
  },
  {
   "cell_type": "code",
   "execution_count": null,
   "id": "67299ee2-8b55-42e5-8777-585d4eecac4d",
   "metadata": {},
   "outputs": [],
   "source": [
    "type(iris)"
   ]
  },
  {
   "cell_type": "code",
   "execution_count": null,
   "id": "3e3aa649-a56d-4f38-ba13-56d004e31a4a",
   "metadata": {},
   "outputs": [],
   "source": [
    "iris.head()"
   ]
  },
  {
   "cell_type": "code",
   "execution_count": null,
   "id": "5e116ea6-4ff8-437d-a09e-9e2875723b40",
   "metadata": {},
   "outputs": [],
   "source": [
    "iris.info()"
   ]
  },
  {
   "cell_type": "code",
   "execution_count": null,
   "id": "8199e48c-2b06-4df1-acc5-b3e5dd0a4126",
   "metadata": {},
   "outputs": [],
   "source": [
    "# Criando o gráfico de dispersão para as variáveis 'sepal_length' e 'sepal_width'\n",
    "plt.figure(figsize=(10, 6))\n",
    "sns.scatterplot(data=iris, x='sepal_length', y='sepal_width', hue='species', palette='Set1')\n",
    "\n",
    "# Adicionando título e rótulos aos eixos\n",
    "plt.title('Gráfico de Dispersão - Comprimento vs Largura das Sépalas', fontsize=16)\n",
    "plt.xlabel('Comprimento da Sépala (cm)', fontsize=12)\n",
    "plt.ylabel('Largura da Sépala (cm)', fontsize=12)\n",
    "\n",
    "# Exibindo o gráfico\n",
    "plt.show()"
   ]
  },
  {
   "cell_type": "code",
   "execution_count": null,
   "id": "4cc38f75-ab24-44ce-849d-ba71636b7664",
   "metadata": {},
   "outputs": [],
   "source": [
    "# Criando uma figura com 2 linhas e 2 colunas para os subgráficos\n",
    "fig, axes = plt.subplots(2, 2, figsize=(8, 6), sharex=True)\n",
    "\n",
    "\n",
    "sns.boxplot(x='species', y='sepal_length', data=iris, ax=axes[0, 0], hue='species', palette='Set1')\n",
    "axes[0, 0].set_ylabel('Comprimento da Sépala')\n",
    "#axes[0, 0].set_xlabel('')\n",
    "\n",
    "sns.boxplot(x='species', y='sepal_width', data=iris, ax=axes[0, 1], hue='species',  palette='Set1')\n",
    "axes[0, 1].set_ylabel('Largura da Sépala')\n",
    "#axes[0, 1].set_xlabel('')\n",
    "\n",
    "sns.boxplot(x='species', y='petal_length', data=iris, ax=axes[1, 0], hue='species',  palette='Set1')\n",
    "axes[1, 0].set_ylabel('Comprimento da Pétala')\n",
    "axes[1, 1].set_xlabel('Espécies')\n",
    "\n",
    "sns.boxplot(x='species', y='petal_width', data=iris, ax=axes[1, 1], hue='species',  palette='Set1')\n",
    "axes[1, 1].set_ylabel('Largura da Pétala')\n",
    "axes[1, 1].set_xlabel('Espécies')\n",
    "\n",
    "\n",
    "rotulos = ['(a)', '(b)', '(c)', '(d)']\n",
    "for i, ax in enumerate(axes.flat):\n",
    "    ax.text(0.025, 0.92, rotulos[i], transform=ax.transAxes, fontsize=10)\n",
    "\n",
    "plt.tight_layout()\n",
    "\n",
    "plt.show()"
   ]
  },
  {
   "cell_type": "code",
   "execution_count": null,
   "id": "18f0df2b-11ff-4111-aad8-4af07b17ae32",
   "metadata": {},
   "outputs": [],
   "source": [
    "sns.pairplot(iris, hue='species')"
   ]
  },
  {
   "cell_type": "code",
   "execution_count": null,
   "id": "e1a0b4da-24de-4ed3-8e10-7e5ee69ee3d0",
   "metadata": {},
   "outputs": [],
   "source": [
    "import plotly.express as px"
   ]
  },
  {
   "cell_type": "code",
   "execution_count": null,
   "id": "dc66dcf9-4bdf-4ec5-bd32-90679e0154fb",
   "metadata": {},
   "outputs": [],
   "source": [
    "# Criando o gráfico 3D com Plotly\n",
    "fig = px.scatter_3d(\n",
    "    iris, \n",
    "    x='sepal_length', \n",
    "    y='sepal_width', \n",
    "    z='petal_length', \n",
    "    color='species',  # A cor vai representar as espécies\n",
    "    title='Visualização 3D do Dataset Iris',\n",
    "    labels={'sepal_length': 'Comprimento da Sépala', \n",
    "            'sepal_width': 'Largura da Sépala', \n",
    "            'petal_length': 'Comprimento da Pétala'},\n",
    "    width=1000,  \n",
    "    height=800    \n",
    ")\n",
    "\n",
    "# Exibindo o gráfico\n",
    "fig.show()"
   ]
  }
 ],
 "metadata": {
  "kernelspec": {
   "display_name": "Python 3 (ipykernel)",
   "language": "python",
   "name": "python3"
  },
  "language_info": {
   "codemirror_mode": {
    "name": "ipython",
    "version": 3
   },
   "file_extension": ".py",
   "mimetype": "text/x-python",
   "name": "python",
   "nbconvert_exporter": "python",
   "pygments_lexer": "ipython3",
   "version": "3.12.4"
  }
 },
 "nbformat": 4,
 "nbformat_minor": 5
}
