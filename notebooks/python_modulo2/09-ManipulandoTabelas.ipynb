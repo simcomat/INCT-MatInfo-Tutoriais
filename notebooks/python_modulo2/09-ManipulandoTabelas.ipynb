{
 "cells": [
  {
   "cell_type": "markdown",
   "id": "72697d94",
   "metadata": {},
   "source": [
    "# 9 - Manipulando Tabelas\n",
    "\n",
    "\n"
   ]
  },
  {
   "cell_type": "markdown",
   "id": "b0600723-755f-4a7f-84c8-46f597ed02db",
   "metadata": {
    "jp-MarkdownHeadingCollapsed": true
   },
   "source": [
    "## Criando uma tabela <code>.csv</code>\n",
    "\n",
    "Um arquivo CSV (Comma-Separated Values) é um tipo de arquivo de texto que armazena dados de maneira simples, com os valores separados por vírgulas. Ele é amplamente utilizado para armazenar dados tabulares, como planilhas de Excel ou bancos de dados. Cada linha do arquivo representa uma linha de dados, e os valores em cada linha são separados por vírgulas, formando colunas.\n",
    "\n",
    "CSV também é um módulo nativo do Python https://docs.python.org/3/library/csv.html"
   ]
  },
  {
   "cell_type": "code",
   "execution_count": null,
   "id": "91bc9127-3dd6-4e67-8d15-181d84b8638f",
   "metadata": {},
   "outputs": [],
   "source": [
    "import csv"
   ]
  },
  {
   "cell_type": "code",
   "execution_count": null,
   "id": "5566e505-2024-46d2-9dba-988e0aeca8c8",
   "metadata": {},
   "outputs": [],
   "source": [
    "dados = [\n",
    "    [\"Nome\", \"Estatística\", \"Programação\"],  # Cabeçalho\n",
    "    [\"João\", 8.5, 9.0],\n",
    "    [\"Maria\", 7.0, 8.5],\n",
    "    [\"Pedro\", 6.5, 7.5],\n",
    "    [\"Ana\", 9.0, 9.5],\n",
    "    [\"Lucas\", 5.5, 6.0],\n",
    "    [\"Julia\", 8.0, 7.0],\n",
    "    [\"Ronaldo\", 8.0, 7.0],\n",
    "    [\"Mariana\", 6.0, 10.0],\n",
    "    [\"Jonas\", 7.0, 4.0],\n",
    "    [\"Fernanda\", 7.5, 7.0],\n",
    "    [\"Beatriz\", 4.5, 8.0],\n",
    "]"
   ]
  },
  {
   "cell_type": "code",
   "execution_count": null,
   "id": "19d34ef6-899c-4f81-9d4d-1a8ea607ed6f",
   "metadata": {},
   "outputs": [],
   "source": [
    "with open(\"notas_alunos.csv\", mode='w', newline='', encoding='utf-8') as file:\n",
    "    writer = csv.writer(file)\n",
    "    writer.writerows(dados)"
   ]
  },
  {
   "cell_type": "code",
   "execution_count": null,
   "id": "d799b3d5-3b63-4809-b820-89f508b90c5a",
   "metadata": {},
   "outputs": [],
   "source": [
    "with open(\"notas_alunos.csv\", mode='r', newline='', encoding='utf-8') as file:\n",
    "    reader = csv.reader(file)\n",
    "    linhas = [linha for linha in reader]"
   ]
  },
  {
   "cell_type": "code",
   "execution_count": null,
   "id": "a0644ea6-e77f-499f-afe7-d29468ff4866",
   "metadata": {},
   "outputs": [],
   "source": [
    "linhas"
   ]
  },
  {
   "cell_type": "code",
   "execution_count": null,
   "id": "fe98b65f-6c9c-41cc-b16e-aa82d5f41d20",
   "metadata": {},
   "outputs": [],
   "source": [
    "linhas[0]"
   ]
  },
  {
   "cell_type": "code",
   "execution_count": null,
   "id": "a554a014-6c15-4cdf-bd3a-cc86551cbc36",
   "metadata": {},
   "outputs": [],
   "source": [
    "linhas[1][1]"
   ]
  },
  {
   "cell_type": "code",
   "execution_count": null,
   "id": "04bfff5c-5482-41d9-b5a3-00aa047c1b02",
   "metadata": {},
   "outputs": [],
   "source": [
    "type(linhas[1][1])  # Perceba que os conteudos das células da tabela são Strings"
   ]
  },
  {
   "cell_type": "markdown",
   "id": "d8d1e072-e582-48eb-b62b-1b242d259d25",
   "metadata": {
    "jp-MarkdownHeadingCollapsed": true
   },
   "source": [
    "## Pandas\n",
    "\n",
    "A biblioteca Pandas é uma ferramenta de Python projetada para facilitar a manipulação e análise de dados estruturados. Ela trabalha com dois principais tipos de estruturas de dados: o <code>DataFrame</code>, que é uma tabela bidimensional com linhas e colunas, e a <code>Series</code>, que é uma estrutura unidimensional. Pandas permite ler, escrever e manipular dados de forma eficiente, como arquivos CSV, Excel e bancos de dados, oferecendo uma maneira simples de acessar, organizar e processar grandes volumes de dados. A principal ideia por trás do Pandas é tornar o trabalho com dados tabulares mais fácil e rápido, sem a necessidade de escrever longas linhas de código.\n",
    "\n",
    "https://pandas.pydata.org/docs/user_guide/index.html"
   ]
  },
  {
   "cell_type": "code",
   "execution_count": null,
   "id": "dae32e78-eb23-4042-8035-28fe5b3fdd56",
   "metadata": {},
   "outputs": [],
   "source": [
    "import pandas as pd"
   ]
  },
  {
   "cell_type": "code",
   "execution_count": null,
   "id": "89dd7727-fe05-4e9d-b068-78e0a365f856",
   "metadata": {},
   "outputs": [],
   "source": [
    "df = pd.read_csv('notas_alunos.csv')"
   ]
  },
  {
   "cell_type": "code",
   "execution_count": null,
   "id": "a5814b11-adbc-4dcb-9628-7ee7c7a6192f",
   "metadata": {},
   "outputs": [],
   "source": [
    "type(df)"
   ]
  },
  {
   "cell_type": "code",
   "execution_count": null,
   "id": "d18daf0d-abb5-4410-84ff-bddbaf0d6818",
   "metadata": {},
   "outputs": [],
   "source": [
    "df.columns"
   ]
  },
  {
   "cell_type": "code",
   "execution_count": null,
   "id": "56fe3ad1-3b26-42cc-9023-bd590900a0a8",
   "metadata": {},
   "outputs": [],
   "source": [
    "df.head()"
   ]
  },
  {
   "cell_type": "code",
   "execution_count": null,
   "id": "77265059-1749-4338-b327-880777f7d9b4",
   "metadata": {},
   "outputs": [],
   "source": [
    "df.tail()"
   ]
  },
  {
   "cell_type": "code",
   "execution_count": null,
   "id": "1da49444-f002-4f26-8cb1-999d7d88269c",
   "metadata": {},
   "outputs": [],
   "source": [
    "df.info()"
   ]
  },
  {
   "cell_type": "code",
   "execution_count": null,
   "id": "17efc8c5-837b-42db-a4f4-c8b25c21757f",
   "metadata": {},
   "outputs": [],
   "source": [
    "df.describe()"
   ]
  },
  {
   "cell_type": "code",
   "execution_count": null,
   "id": "91474699-9e35-48de-8e11-4bc71635c721",
   "metadata": {},
   "outputs": [],
   "source": [
    "df.hist()"
   ]
  },
  {
   "cell_type": "code",
   "execution_count": null,
   "id": "cd2873ad-ac47-4027-b443-59c76ec0417e",
   "metadata": {},
   "outputs": [],
   "source": [
    "df.boxplot()"
   ]
  },
  {
   "cell_type": "code",
   "execution_count": null,
   "id": "079873b4-32f3-48c9-adf2-5b9435566106",
   "metadata": {},
   "outputs": [],
   "source": [
    "def media_final(nota_estatistica,nota_programacao):\n",
    "    return(0.4*nota_estatistica+0.6*nota_programacao)"
   ]
  },
  {
   "cell_type": "code",
   "execution_count": null,
   "id": "74159be9-2816-4ea3-b0cd-c992235a5b62",
   "metadata": {},
   "outputs": [],
   "source": [
    "media_final(10,10)"
   ]
  },
  {
   "cell_type": "code",
   "execution_count": null,
   "id": "1141a6df-f698-4244-8fd4-f0dde45e1fc8",
   "metadata": {},
   "outputs": [],
   "source": [
    "media_final(10,5)"
   ]
  },
  {
   "cell_type": "code",
   "execution_count": null,
   "id": "00cd057c-b9a8-4e8c-81fe-a7fdb9b222b1",
   "metadata": {},
   "outputs": [],
   "source": [
    "df['Media'] = df.apply(lambda x: media_final(x['Estatística'], x['Programação']), axis=1)"
   ]
  },
  {
   "cell_type": "code",
   "execution_count": null,
   "id": "18a8a4cf-6225-47ee-8440-8bd2df1b25a5",
   "metadata": {},
   "outputs": [],
   "source": [
    "df.head()"
   ]
  },
  {
   "cell_type": "code",
   "execution_count": null,
   "id": "075f8e04-bbcb-429c-ba3d-9a8b931cfb3b",
   "metadata": {},
   "outputs": [],
   "source": [
    "def aprovacao(media):\n",
    "    if media >=7:\n",
    "        return \"Aprovado\"\n",
    "    else:\n",
    "        return \"Retido\""
   ]
  },
  {
   "cell_type": "code",
   "execution_count": null,
   "id": "e674aab3-b24c-4e8a-97aa-5fcf8f6cf7a1",
   "metadata": {},
   "outputs": [],
   "source": [
    "df['Aprovacao'] = df['Media'].apply(aprovacao)"
   ]
  },
  {
   "cell_type": "code",
   "execution_count": null,
   "id": "4d320458-e174-448c-8de7-119d1bd68d6c",
   "metadata": {},
   "outputs": [],
   "source": [
    "df.head()"
   ]
  },
  {
   "cell_type": "code",
   "execution_count": null,
   "id": "397924a9-180b-4328-b99f-9cc71a873e5d",
   "metadata": {},
   "outputs": [],
   "source": [
    "retidos = df[df['Aprovacao']=='Retido']\n",
    "\n",
    "retidos"
   ]
  },
  {
   "cell_type": "code",
   "execution_count": null,
   "id": "8ddc6f60-24cd-4376-9216-8261e20a4fce",
   "metadata": {},
   "outputs": [],
   "source": [
    "aprovados = df[df['Aprovacao']=='Aprovado']\n",
    "\n",
    "aprovados"
   ]
  },
  {
   "cell_type": "code",
   "execution_count": null,
   "id": "6c778672-fd89-4c4b-b25e-9c1539a1a0c3",
   "metadata": {},
   "outputs": [],
   "source": [
    "df.groupby('Aprovacao').count()"
   ]
  },
  {
   "cell_type": "code",
   "execution_count": null,
   "id": "d7b4ae76-c048-42d3-a969-2917169550d1",
   "metadata": {},
   "outputs": [],
   "source": [
    "df.groupby('Aprovacao')[['Programação','Estatística']].mean()"
   ]
  },
  {
   "cell_type": "code",
   "execution_count": null,
   "id": "cbfa5a42-8309-4d54-b77e-d81a0c9da371",
   "metadata": {},
   "outputs": [],
   "source": [
    "df.corr()"
   ]
  },
  {
   "cell_type": "markdown",
   "id": "30c6458d-aa9e-44ec-aa6f-4cb7173508a2",
   "metadata": {},
   "source": [
    "O <code>np.number</code> é um tipo de dado que representa todos os tipos numéricos no NumPy, que incluem tanto números inteiros quanto números de ponto flutuante."
   ]
  },
  {
   "cell_type": "code",
   "execution_count": null,
   "id": "c89e9f76-8c1c-4cfa-b111-b35b2fe7bd99",
   "metadata": {},
   "outputs": [],
   "source": [
    "import numpy as np"
   ]
  },
  {
   "cell_type": "code",
   "execution_count": null,
   "id": "f7e469eb-9539-44b6-971d-e512cac0adfe",
   "metadata": {},
   "outputs": [],
   "source": [
    "df.select_dtypes(include=[np.number]).corr()"
   ]
  }
 ],
 "metadata": {
  "kernelspec": {
   "display_name": "Python 3 (ipykernel)",
   "language": "python",
   "name": "python3"
  },
  "language_info": {
   "codemirror_mode": {
    "name": "ipython",
    "version": 3
   },
   "file_extension": ".py",
   "mimetype": "text/x-python",
   "name": "python",
   "nbconvert_exporter": "python",
   "pygments_lexer": "ipython3",
   "version": "3.12.4"
  }
 },
 "nbformat": 4,
 "nbformat_minor": 5
}
