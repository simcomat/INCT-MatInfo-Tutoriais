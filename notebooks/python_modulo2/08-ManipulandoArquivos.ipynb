{
 "cells": [
  {
   "cell_type": "markdown",
   "id": "72697d94",
   "metadata": {},
   "source": [
    "# 8 - Manipulando Arquivos\n",
    "\n",
    "Arquivos pode ser entedidos como blocos de bits armazenados na memória permanente. A forma como um programa escreve e lê esses bits define a extensão dos arquivos e pode trazer vantagens relacionadas a manipulação dessas estruturas pelo código.\n",
    "\n"
   ]
  },
  {
   "cell_type": "markdown",
   "id": "b542eb68-6f41-42e5-9edc-a04073c122bb",
   "metadata": {
    "jp-MarkdownHeadingCollapsed": true
   },
   "source": [
    "## Arquivos de Texto\n",
    "\n",
    "O <code>open</code> é uma função do Python usada para abrir arquivos. Ela permite que você leia ou escreva em arquivos de texto ou binários. Essa função deve receber dois parâmetros: o caminho do arquivo e modo de abertura. \n",
    "\n",
    "O <code>with</code> é uma estrutura de controle que facilita o gerenciamento de recursos, como arquivos, conexões de rede, ou qualquer outro recurso que precise ser aberto e depois fechado. Quando você usa with para abrir um arquivo, ele automaticamente cuida de fechar o arquivo quando o bloco de código dentro do with terminar. Isso evita que você tenha que chamar <code>arquivo.close()</code> manualmente."
   ]
  },
  {
   "cell_type": "code",
   "execution_count": null,
   "id": "86446ea4-4d68-4f06-a61c-11e792f8ff79",
   "metadata": {},
   "outputs": [],
   "source": [
    "# exemplo.txt é o nome do arquivo que será criado na memória permanente\n",
    "# w é a flag de escrita\n",
    "\n",
    "with open('exemplo.txt', 'w') as arquivo:  # Arquivo é o nome da variável em memória volátil que receberá os dados a serem gravados\n",
    "    arquivo.write('Olá, este é um exemplo de arquivo de texto!\\n')  # Write é um método da classe TextIOWrapper\n",
    "    arquivo.write('Cada linha pode ser escrita separadamente.\\n')"
   ]
  },
  {
   "cell_type": "markdown",
   "id": "7ff708da-cbc6-4e0d-8145-e8f19db86f46",
   "metadata": {},
   "source": [
    "O Python tem uma classe para tratar dados de IO https://docs.python.org/3/library/io.html"
   ]
  },
  {
   "cell_type": "code",
   "execution_count": null,
   "id": "2ecb75fd-d341-4340-a309-b0e977488cff",
   "metadata": {},
   "outputs": [],
   "source": [
    "type(arquivo)  "
   ]
  },
  {
   "cell_type": "code",
   "execution_count": null,
   "id": "fd415fcc-7656-4aac-8d64-621ee118db1e",
   "metadata": {},
   "outputs": [],
   "source": [
    "# Abre o arquivo em modo de leitura (read)\n",
    "with open('exemplo.txt', 'r') as arquivo:\n",
    "    conteudo = arquivo.read() # usando metodo read"
   ]
  },
  {
   "cell_type": "code",
   "execution_count": null,
   "id": "e75fc22f-b21d-456c-bb27-6c3fcd6f0c4a",
   "metadata": {},
   "outputs": [],
   "source": [
    "conteudo"
   ]
  },
  {
   "cell_type": "code",
   "execution_count": null,
   "id": "1475baa9-a5ad-479b-89c2-5359d330bec9",
   "metadata": {},
   "outputs": [],
   "source": [
    "type(conteudo)  # todo o conteúdo do arquivo de texto é salvo numa única String"
   ]
  },
  {
   "cell_type": "code",
   "execution_count": null,
   "id": "a0c5d377-bb9d-4e59-b177-72295ca82b8c",
   "metadata": {},
   "outputs": [],
   "source": [
    "# Abre o arquivo em modo de leitura (read)\n",
    "with open('exemplo.txt', 'r') as arquivo:\n",
    "    linhas = arquivo.readlines() # usando metodo readlines"
   ]
  },
  {
   "cell_type": "code",
   "execution_count": null,
   "id": "c2c9e77e-2c5c-47e0-960a-43eefed8e486",
   "metadata": {},
   "outputs": [],
   "source": [
    "linhas"
   ]
  },
  {
   "cell_type": "code",
   "execution_count": null,
   "id": "2a2f9262-d307-4de4-96da-0ae686e32f55",
   "metadata": {},
   "outputs": [],
   "source": [
    "type(linhas) #  o conteúdo do arquivo de texto é salvo num Lista separado por quebra de linha denotado por \\n"
   ]
  },
  {
   "cell_type": "code",
   "execution_count": null,
   "id": "6d310be2-94ce-4862-b4e2-b19258d59009",
   "metadata": {},
   "outputs": [],
   "source": [
    "linhas = ['Primeira linha.\\n', 'Segunda linha.\\n', 'Terceira linha.\\n']"
   ]
  },
  {
   "cell_type": "code",
   "execution_count": null,
   "id": "7ab7b9b5-dd79-41c2-81ea-bdc66cd47045",
   "metadata": {},
   "outputs": [],
   "source": [
    "with open('exemplo_multiplas_linhas.txt', 'w') as arquivo: \n",
    "    arquivo.writelines(linhas)  # para escrever múltiplas linhas de uma única vez"
   ]
  },
  {
   "cell_type": "code",
   "execution_count": null,
   "id": "cbf4169b-ddba-4704-95ae-cbf804d2b8a0",
   "metadata": {},
   "outputs": [],
   "source": [
    "linhas2 = linhas[::-1] # usando fatiamento da lista para gerar na ordem inversa"
   ]
  },
  {
   "cell_type": "code",
   "execution_count": null,
   "id": "7fbcdc74-4f5c-4598-b636-e4dfca5ef2c6",
   "metadata": {},
   "outputs": [],
   "source": [
    "linhas2"
   ]
  },
  {
   "cell_type": "code",
   "execution_count": null,
   "id": "f9e6beb7-5771-4771-959d-b22852d14762",
   "metadata": {},
   "outputs": [],
   "source": [
    "# O método append adiciona linhas no final do arquivo\n",
    "with open('exemplo_multiplas_linhas.txt', 'a') as arquivo: \n",
    "    arquivo.writelines(linhas2) "
   ]
  },
  {
   "cell_type": "code",
   "execution_count": null,
   "id": "22334509-d57a-433f-b766-f5f4953f6930",
   "metadata": {},
   "outputs": [],
   "source": [
    "# Abre o arquivo em modo de leitura (read)\n",
    "with open('exemplo_multiplas_linhas.txt', 'r') as arquivo:\n",
    "    linhas = arquivo.readlines() # usando metodo readlines"
   ]
  },
  {
   "cell_type": "code",
   "execution_count": null,
   "id": "20b7c50f-7bed-473b-9892-26e87f02bff6",
   "metadata": {},
   "outputs": [],
   "source": [
    "linhas"
   ]
  },
  {
   "cell_type": "markdown",
   "id": "77b8b0a4-da19-4f0e-aad1-ebc881b9d6bd",
   "metadata": {},
   "source": [
    "Agora vamos tentar salvar um dicionário:"
   ]
  },
  {
   "cell_type": "code",
   "execution_count": null,
   "id": "04d73b50-7c09-4781-8b8e-b138edf5c763",
   "metadata": {},
   "outputs": [],
   "source": [
    "dicionario = {\n",
    "    'peso':80,\n",
    "    'altura':1.70,\n",
    "    'idade':22,\n",
    "    'notas':[10,8,9,3]\n",
    "}"
   ]
  },
  {
   "cell_type": "code",
   "execution_count": null,
   "id": "9479fea3-61dd-4303-af89-25e409b84c41",
   "metadata": {},
   "outputs": [],
   "source": [
    "dicionario['idade']"
   ]
  },
  {
   "cell_type": "code",
   "execution_count": null,
   "id": "0d4bb676-5a66-462e-ac4d-060a7393df57",
   "metadata": {},
   "outputs": [],
   "source": [
    "with open('exemplo_dicionario.txt', 'w') as arquivo:\n",
    "     arquivo.write(dicionario)"
   ]
  },
  {
   "cell_type": "code",
   "execution_count": null,
   "id": "94863b5a-104c-4c9e-81c9-1bb537c91679",
   "metadata": {},
   "outputs": [],
   "source": [
    "with open('exemplo_dicionario.txt', 'w') as arquivo:\n",
    "     arquivo.write(str(dicionario))  # Podemos forçar a conversão para String com o str()"
   ]
  },
  {
   "cell_type": "code",
   "execution_count": null,
   "id": "398eab80-c33f-423b-b306-ee0fbb7f6114",
   "metadata": {},
   "outputs": [],
   "source": [
    "with open('exemplo_dicionario.txt', 'r') as arquivo:\n",
    "    dicionario_lido = arquivo.read() "
   ]
  },
  {
   "cell_type": "code",
   "execution_count": null,
   "id": "12f3c684-c7c8-44f1-9f2a-273b034f94dc",
   "metadata": {},
   "outputs": [],
   "source": [
    "dicionario_lido "
   ]
  },
  {
   "cell_type": "code",
   "execution_count": null,
   "id": "4ecfa4b5-da2a-4611-8a9f-b69d77f41adf",
   "metadata": {},
   "outputs": [],
   "source": [
    "dicionario_lido['idade']"
   ]
  },
  {
   "cell_type": "code",
   "execution_count": null,
   "id": "90a8318d-fb5b-4e47-a7d8-f32c80c3f768",
   "metadata": {},
   "outputs": [],
   "source": [
    "type(dicionario_lido)"
   ]
  },
  {
   "cell_type": "code",
   "execution_count": null,
   "id": "8a6c2e6f-62bf-4e3d-98e4-c0ae66b3df21",
   "metadata": {},
   "outputs": [],
   "source": [
    "dict(dicionario_lido) # não é possível fazer a conversão inversa de String para Dict facilmente!"
   ]
  },
  {
   "cell_type": "markdown",
   "id": "6db9a738-08cf-41e6-a735-e92ed526fbaf",
   "metadata": {
    "jp-MarkdownHeadingCollapsed": true
   },
   "source": [
    "## Arquivos JSON\n",
    "\n",
    "JSON (JavaScript Object Notation) é um formato leve e de fácil leitura para troca de dados entre sistemas. Ele organiza informações em pares de chave-valor e é frequentemente utilizado em APIs e comunicação entre servidores e aplicações web. Sua estrutura é baseada em objetos (entre chaves) e arrays (entre colchetes), o que facilita a representação de dados complexos de forma simples e hierárquica. Por ser baseado em texto, é facilmente interpretado por humanos e máquinas, sendo amplamente adotado em programação e desenvolvimento de software.\n",
    "\n",
    "https://docs.python.org/3/library/json.html"
   ]
  },
  {
   "cell_type": "code",
   "execution_count": null,
   "id": "80dafabf-5d5d-4595-96a0-aff64bfb9dca",
   "metadata": {},
   "outputs": [],
   "source": [
    "import json"
   ]
  },
  {
   "cell_type": "code",
   "execution_count": null,
   "id": "fdf049d4-43f7-4ce0-b671-519001bf9ba2",
   "metadata": {},
   "outputs": [],
   "source": [
    "with open('exemplo_dicionario.json', 'w') as arquivo:\n",
    "    json.dump(dicionario, arquivo)   # Usando o método DUMP do módulo JSON"
   ]
  },
  {
   "cell_type": "code",
   "execution_count": null,
   "id": "3c78942f-2ea3-4e98-8401-1e0b13316b17",
   "metadata": {},
   "outputs": [],
   "source": [
    "with open('exemplo_dicionario.json', 'r') as arquivo:\n",
    "    dicionario_lido = json.load(arquivo)"
   ]
  },
  {
   "cell_type": "code",
   "execution_count": null,
   "id": "a7e28ec2-dad6-416b-a29b-78be1b69bf9a",
   "metadata": {},
   "outputs": [],
   "source": [
    "dicionario_lido"
   ]
  },
  {
   "cell_type": "code",
   "execution_count": null,
   "id": "40e87a49-49bf-4f72-bb44-22fe8d1ef1cd",
   "metadata": {},
   "outputs": [],
   "source": [
    "type(dicionario_lido)"
   ]
  },
  {
   "cell_type": "code",
   "execution_count": null,
   "id": "5b124263-b090-4077-acae-bbb8dd6d1cff",
   "metadata": {},
   "outputs": [],
   "source": [
    "dicionario_lido['idade']"
   ]
  },
  {
   "cell_type": "markdown",
   "id": "5de00b46-6f7c-429f-b44b-0a59f8ce297b",
   "metadata": {
    "jp-MarkdownHeadingCollapsed": true
   },
   "source": [
    "## Salvando Objetos Python\n",
    "\n",
    "<code>pickle</code> é um módulo em Python usado para serializar (converter) objetos em um formato que pode ser armazenado em um arquivo ou transferido para outro processo, e depois desserializá-los (converter de volta ao formato original). Isso é útil para salvar o estado de objetos complexos, como instâncias de classes, listas, dicionários, etc. A principal vantagem é que ele pode lidar com uma variedade de tipos de objetos, incluindo objetos personalizados.\n",
    "\n",
    "https://docs.python.org/3/library/pickle.html"
   ]
  },
  {
   "cell_type": "code",
   "execution_count": null,
   "id": "832eb105-7b75-4c2f-8c0e-dac21c7910cc",
   "metadata": {},
   "outputs": [],
   "source": [
    "import numpy as np"
   ]
  },
  {
   "cell_type": "code",
   "execution_count": null,
   "id": "0556647f-c4c1-4850-9da7-b1cec8e6e122",
   "metadata": {},
   "outputs": [],
   "source": [
    "matriz = np.array([[1, 2, 3], [4, 5, 6], [7, 8, 9]])"
   ]
  },
  {
   "cell_type": "code",
   "execution_count": null,
   "id": "7961f773-0d45-4137-a5da-c0ce634c971b",
   "metadata": {},
   "outputs": [],
   "source": [
    "matriz"
   ]
  },
  {
   "cell_type": "code",
   "execution_count": null,
   "id": "a488675c-dd1d-4a2e-8a9e-9277c32e3db7",
   "metadata": {},
   "outputs": [],
   "source": [
    "type(matriz)"
   ]
  },
  {
   "cell_type": "code",
   "execution_count": null,
   "id": "d91236e6-207c-4820-a548-e909087fb89f",
   "metadata": {},
   "outputs": [],
   "source": [
    "import pickle"
   ]
  },
  {
   "cell_type": "code",
   "execution_count": null,
   "id": "418dc384-7347-4edd-9651-08237c3b9b72",
   "metadata": {},
   "outputs": [],
   "source": [
    "with open('matriz.pkl', 'wb') as arquivo:\n",
    "    pickle.dump(matriz, arquivo)"
   ]
  },
  {
   "cell_type": "code",
   "execution_count": null,
   "id": "c4b08af7-0645-4f33-b367-eb02144977e1",
   "metadata": {},
   "outputs": [],
   "source": [
    "# Carregar o objeto do arquivo com pickle\n",
    "with open('matriz.pkl', 'rb') as arquivo:\n",
    "    matriz_carregada = pickle.load(arquivo)"
   ]
  },
  {
   "cell_type": "code",
   "execution_count": null,
   "id": "05a405b4-4196-4583-993e-0190230256a2",
   "metadata": {},
   "outputs": [],
   "source": [
    "matriz_carregada"
   ]
  },
  {
   "cell_type": "code",
   "execution_count": null,
   "id": "1f740c5c-ce23-440d-ba7b-94d29b68f743",
   "metadata": {},
   "outputs": [],
   "source": [
    "type(matriz_carregada)"
   ]
  },
  {
   "cell_type": "code",
   "execution_count": null,
   "id": "5d9b59d1-78b5-4347-8e7a-e1695c85611e",
   "metadata": {},
   "outputs": [],
   "source": [
    "np.trace(matriz_carregada) "
   ]
  },
  {
   "cell_type": "code",
   "execution_count": null,
   "id": "0b568b18-3c26-4b18-ac60-096e365aff80",
   "metadata": {},
   "outputs": [],
   "source": [
    "# Definindo uma classe\n",
    "class Carro:\n",
    "    def __init__(self, marca, modelo, ano):\n",
    "        self.marca = marca\n",
    "        self.modelo = modelo\n",
    "        self.ano = ano\n",
    "    \n",
    "    def detalhes(self):\n",
    "        return f\"Carro: {self.marca} {self.modelo} ({self.ano})\"\n",
    "    \n",
    "    def atualizar_ano(self, novo_ano):\n",
    "        self.ano = novo_ano\n",
    "        return f\"Ano do carro atualizado para {self.ano}\""
   ]
  },
  {
   "cell_type": "code",
   "execution_count": null,
   "id": "0dcd70e6-865d-45d0-ad3b-e99a65ec1aa9",
   "metadata": {},
   "outputs": [],
   "source": [
    "meu_carro = Carro(\"Ford\", \"Fiesta\", 2010)"
   ]
  },
  {
   "cell_type": "code",
   "execution_count": null,
   "id": "a2e4279f-053a-4319-9cf9-19fb0a414276",
   "metadata": {},
   "outputs": [],
   "source": [
    "type(meu_carro)"
   ]
  },
  {
   "cell_type": "code",
   "execution_count": null,
   "id": "1d63024f-ba8f-4626-8dc1-e644a3664ce5",
   "metadata": {},
   "outputs": [],
   "source": [
    "# Serializando o objeto para um arquivo\n",
    "with open(\"carro.pkl\", \"wb\") as f:\n",
    "    pickle.dump(meu_carro, f)"
   ]
  },
  {
   "cell_type": "code",
   "execution_count": null,
   "id": "7add0838-f462-4ea6-90c4-1b1900226556",
   "metadata": {},
   "outputs": [],
   "source": [
    "meu_carro.atualizar_ano(2025)"
   ]
  },
  {
   "cell_type": "code",
   "execution_count": null,
   "id": "442f1040-ab3b-4137-a2d4-1f6c12c84bf5",
   "metadata": {},
   "outputs": [],
   "source": [
    "# Desserializando o objeto de volta\n",
    "with open(\"carro.pkl\", \"rb\") as f:\n",
    "    carro_carregado = pickle.load(f)"
   ]
  },
  {
   "cell_type": "code",
   "execution_count": null,
   "id": "cf0afa32-e91b-410a-bfa0-cec3c5863c69",
   "metadata": {},
   "outputs": [],
   "source": [
    "carro_carregado.detalhes()"
   ]
  },
  {
   "cell_type": "code",
   "execution_count": null,
   "id": "2c7831d3-bfad-430c-ba66-0afb45e85eb6",
   "metadata": {},
   "outputs": [],
   "source": [
    "type(carro_carregado)"
   ]
  },
  {
   "cell_type": "code",
   "execution_count": null,
   "id": "a606e46b-9e10-4ceb-8e73-765e7427ae33",
   "metadata": {},
   "outputs": [],
   "source": [
    "meu_carro.detalhes()"
   ]
  },
  {
   "cell_type": "markdown",
   "id": "1297ce90-6d59-4e06-8671-f320583ca82f",
   "metadata": {
    "jp-MarkdownHeadingCollapsed": true
   },
   "source": [
    "## Manipulando Diretórios\n",
    "\n",
    "Para interagir com o sistema operacional e poder criar, mover e remover diretórios completos, podemos usar os módulos nativos do Python <code>os</code> e <code>shutil</code>.\n",
    "\n",
    "https://docs.python.org/3/library/os.html  e  https://docs.python.org/3/library/shutil.html"
   ]
  },
  {
   "cell_type": "code",
   "execution_count": null,
   "id": "af4984b1-b311-427e-a1e9-dd02ca3b8cc2",
   "metadata": {},
   "outputs": [],
   "source": [
    "import os\n",
    "import shutil"
   ]
  },
  {
   "cell_type": "code",
   "execution_count": null,
   "id": "5314b19e-23bd-407e-bbd6-52fad3d3982f",
   "metadata": {},
   "outputs": [],
   "source": [
    "arquivos = os.listdir('.')\n",
    "arquivos"
   ]
  },
  {
   "cell_type": "code",
   "execution_count": null,
   "id": "5f9bc67f-6a24-4806-aa09-f2e1c017ab46",
   "metadata": {},
   "outputs": [],
   "source": [
    "os.mkdir('nova_pasta')  # Criar nova pasta"
   ]
  },
  {
   "cell_type": "code",
   "execution_count": null,
   "id": "e7a20321-d834-461d-b8b9-fd95224bb91a",
   "metadata": {},
   "outputs": [],
   "source": [
    "arquivos = os.listdir('.')\n",
    "arquivos"
   ]
  },
  {
   "cell_type": "code",
   "execution_count": null,
   "id": "2439649c-e484-42a6-9915-14c46a06ae9e",
   "metadata": {},
   "outputs": [],
   "source": [
    "shutil.move('carro.pkl', 'nova_pasta/carro.pkl')"
   ]
  },
  {
   "cell_type": "code",
   "execution_count": null,
   "id": "f830bd6f-4118-40db-9af0-bafc9c21d9f7",
   "metadata": {},
   "outputs": [],
   "source": [
    "os.listdir('.')"
   ]
  },
  {
   "cell_type": "code",
   "execution_count": null,
   "id": "5d850278-76a0-483d-81fa-5dc6746519ef",
   "metadata": {},
   "outputs": [],
   "source": [
    "os.listdir('nova_pasta')"
   ]
  },
  {
   "cell_type": "code",
   "execution_count": null,
   "id": "d4b5c066-e716-4392-ae4d-14173972ee77",
   "metadata": {},
   "outputs": [],
   "source": [
    "origem = 'nova_pasta/carro.pkl'\n",
    "destino = 'carro_copiado.pkl'\n",
    "\n",
    "# Copiando o arquivo\n",
    "shutil.copy(origem, destino)"
   ]
  },
  {
   "cell_type": "code",
   "execution_count": null,
   "id": "57f0a98f-386b-4b72-a8b9-ac7998dadbe4",
   "metadata": {},
   "outputs": [],
   "source": [
    "os.listdir('.')"
   ]
  },
  {
   "cell_type": "code",
   "execution_count": null,
   "id": "99a7262e-c552-48bc-8fa0-60c8cb75850d",
   "metadata": {},
   "outputs": [],
   "source": [
    "os.listdir('nova_pasta')"
   ]
  },
  {
   "cell_type": "code",
   "execution_count": null,
   "id": "62aae246-e53b-490b-a738-b7f6cc9c66e1",
   "metadata": {},
   "outputs": [],
   "source": [
    "shutil.rmtree('nova_pasta')"
   ]
  },
  {
   "cell_type": "code",
   "execution_count": null,
   "id": "a0f59059-b50c-4f10-839e-2672ffd45a6d",
   "metadata": {},
   "outputs": [],
   "source": [
    "os.listdir()"
   ]
  },
  {
   "cell_type": "code",
   "execution_count": null,
   "id": "f84387cd-c3c4-4570-b3a7-cb5f9263d5ae",
   "metadata": {},
   "outputs": [],
   "source": [
    "os.listdir('nova_pasta')"
   ]
  }
 ],
 "metadata": {
  "kernelspec": {
   "display_name": "Python 3 (ipykernel)",
   "language": "python",
   "name": "python3"
  },
  "language_info": {
   "codemirror_mode": {
    "name": "ipython",
    "version": 3
   },
   "file_extension": ".py",
   "mimetype": "text/x-python",
   "name": "python",
   "nbconvert_exporter": "python",
   "pygments_lexer": "ipython3",
   "version": "3.12.4"
  }
 },
 "nbformat": 4,
 "nbformat_minor": 5
}
