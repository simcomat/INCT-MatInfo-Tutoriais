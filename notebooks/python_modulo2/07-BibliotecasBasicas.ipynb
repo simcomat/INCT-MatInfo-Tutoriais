{
 "cells": [
  {
   "cell_type": "markdown",
   "id": "72697d94",
   "metadata": {},
   "source": [
    "# 7 - Bibliotecas Básicas\n",
    "\n",
    "Em Python, existem diversas bibliotecas de código que implementam funções prontas.\n",
    "\n",
    "- Uma boa biblioteca deve possuir uma documentação adequada e uma comunidade ativa de usuários e desenvolvedores;\n",
    "- Algumas bibliotecas são nativas do próprio Python;\n",
    "- O Python possui um gerenciador de pacotes que permite instalar e deletar bibliotecas, denominado <code>pip</code>;\n",
    "- Algumas bibliotecas são construídas em cima de outras bibliotecas;\n",
    "- Algumas bibliotecas podem entrar em conflito entre si, impedindo o funcionamento do código ou da instalação;"
   ]
  },
  {
   "cell_type": "markdown",
   "id": "a9cfff14-1eeb-4ebd-a035-26d2b7e9bc24",
   "metadata": {},
   "source": [
    "---------------------------------\n",
    "## Bibliotecas nativas do Python\n",
    "\n",
    "A lista completo de bibliotecas nativas do Python pode ser consultada em https://docs.python.org/3/library/."
   ]
  },
  {
   "cell_type": "markdown",
   "id": "94f6d0d5-f089-41d1-9147-cf7bfb570558",
   "metadata": {
    "jp-MarkdownHeadingCollapsed": true
   },
   "source": [
    "### Manipulando Datas\n",
    "\n",
    "https://docs.python.org/3/library/datetime.html"
   ]
  },
  {
   "cell_type": "code",
   "execution_count": null,
   "id": "cbb9af9b",
   "metadata": {},
   "outputs": [],
   "source": [
    "import datetime  # O comando import importa a biblioteca"
   ]
  },
  {
   "cell_type": "code",
   "execution_count": null,
   "id": "7c37297d-9bb2-4ec9-a90a-741bc58f90cf",
   "metadata": {},
   "outputs": [],
   "source": [
    "# Obter a data e hora atual\n",
    "agora = datetime.datetime.now()\n",
    "print(\"Data e hora atuais:\", agora)"
   ]
  },
  {
   "cell_type": "code",
   "execution_count": null,
   "id": "c10e9f3c-fc45-4793-9f12-d9ca64ea6c6a",
   "metadata": {},
   "outputs": [],
   "source": [
    "type(agora)"
   ]
  },
  {
   "cell_type": "code",
   "execution_count": null,
   "id": "a4ccba75-1caa-4810-a50d-0be002bc4b8e",
   "metadata": {},
   "outputs": [],
   "source": [
    "agora"
   ]
  },
  {
   "cell_type": "code",
   "execution_count": null,
   "id": "9f2c936f-4b77-4c7f-b6a0-bd94f17864e7",
   "metadata": {},
   "outputs": [],
   "source": [
    "agora[0]  # Perceba que agora não é uma lista, nem herda nenhuma forma de manipulacao dos objetos tipo lista"
   ]
  },
  {
   "cell_type": "code",
   "execution_count": null,
   "id": "2fff932d-6d3e-4959-ab03-b90fedea03b4",
   "metadata": {},
   "outputs": [],
   "source": [
    "# Para acessar apenas a data devemos usar outre Getter da classe datetime\n",
    "data_atual = agora.date()\n",
    "print(\"Data atual:\", data_atual)"
   ]
  },
  {
   "cell_type": "code",
   "execution_count": null,
   "id": "98d081f0-cf75-47fb-ad31-e67be1803272",
   "metadata": {},
   "outputs": [],
   "source": [
    "# Acessar apenas a hora\n",
    "hora_atual = agora.time()\n",
    "print(\"Hora atual:\", hora_atual)"
   ]
  },
  {
   "cell_type": "code",
   "execution_count": null,
   "id": "7bae6934-679d-415b-8b77-607968c06972",
   "metadata": {},
   "outputs": [],
   "source": [
    "# Criar um objeto datetime com uma data específica\n",
    "data_especifica = datetime.datetime(2025, 1, 28, 15, 30)\n",
    "print(\"Data e hora específicas:\", data_especifica)"
   ]
  },
  {
   "cell_type": "code",
   "execution_count": null,
   "id": "882fca0a-f922-4f97-9a43-381e521a3b9a",
   "metadata": {},
   "outputs": [],
   "source": [
    "# Calcular a diferença entre duas datas\n",
    "data_futura = datetime.datetime(2025, 6, 30)\n",
    "diferenca = data_futura - agora\n",
    "print(\"Diferença entre datas:\", diferenca)"
   ]
  },
  {
   "cell_type": "code",
   "execution_count": null,
   "id": "8a11fe4c-0139-47b6-8506-6450a4f8eab8",
   "metadata": {},
   "outputs": [],
   "source": [
    "# Formatar data e hora ao converter para string\n",
    "data_formatada = agora.strftime(\"%d/%m/%Y %H:%M:%S\")\n",
    "print(\"Data e hora formatada:\", data_formatada)"
   ]
  },
  {
   "cell_type": "code",
   "execution_count": null,
   "id": "dee66e76-bf62-4e6d-80ea-6bd445158c7c",
   "metadata": {},
   "outputs": [],
   "source": [
    "type(data_formatada)"
   ]
  },
  {
   "cell_type": "markdown",
   "id": "39fb8af1-470f-4c2d-9a65-c0ec68747e5f",
   "metadata": {
    "jp-MarkdownHeadingCollapsed": true
   },
   "source": [
    "### Expressões Regulares\n",
    "https://docs.python.org/3/library/re.html"
   ]
  },
  {
   "cell_type": "code",
   "execution_count": null,
   "id": "ed9828fd-05b9-4577-943a-f7d99e217b44",
   "metadata": {},
   "outputs": [],
   "source": [
    "import re"
   ]
  },
  {
   "cell_type": "code",
   "execution_count": null,
   "id": "150835f0-3d47-4692-b2c1-b239fd9caa14",
   "metadata": {},
   "outputs": [],
   "source": [
    "texto = \"Eu tenho 2 gatos e 3 cachorros.\"\n",
    "\n",
    "# Usando re.findall para encontrar todos os números na string\n",
    "numeros = re.findall(r'\\d+', texto)\n",
    "\n",
    "print(numeros)"
   ]
  },
  {
   "cell_type": "code",
   "execution_count": null,
   "id": "cbdfc6cb-47b1-4580-afca-44a490933660",
   "metadata": {},
   "outputs": [],
   "source": [
    "texto = \"Entre em contato com o suporte pelo e-mail: suporte@exemplo.com\"\n",
    "\n",
    "# Padrão para encontrar um e-mail\n",
    "padrao_email = r'[a-zA-Z0-9._%+-]+@[a-zA-Z0-9.-]+\\.[a-zA-Z]{2,}'\n",
    "\n",
    "# Usando re.search para encontrar o primeiro e-mail na string\n",
    "email = re.search(padrao_email, texto2)\n",
    "\n",
    "if email:\n",
    "    print(email.group())  # perceba que a variável email é um objeto\n",
    "else:\n",
    "    print(\"Nenhum e-mail encontrado.\")"
   ]
  },
  {
   "cell_type": "code",
   "execution_count": null,
   "id": "a4da5e47-7329-4041-8f9f-d52b8a997ea9",
   "metadata": {},
   "outputs": [],
   "source": [
    "print(email)"
   ]
  },
  {
   "cell_type": "code",
   "execution_count": null,
   "id": "3214bbd7-f985-4783-82a9-ca53d71bfb98",
   "metadata": {},
   "outputs": [],
   "source": [
    "# Por outro ladol, com 2 emails na mesma frase, precisamos alterar o codigo de search para findall\n",
    "texto2 = \"Entre em contato com o suporte pelo e-mail: suporte@exemplo.com ou suporte@inct.com.br\"\n",
    "emails = re.findall(padrao_email, texto2)\n",
    "emails"
   ]
  },
  {
   "cell_type": "code",
   "execution_count": null,
   "id": "82258e31-1806-49ad-91ab-d06a72505be7",
   "metadata": {},
   "outputs": [],
   "source": [
    "texto = \"Ligue para o número 123-456-7890 ou 987-654-3210 para mais informações.\"\n",
    "\n",
    "# Padrão para encontrar números de telefone no formato XXX-XXX-XXXX\n",
    "padrao_telefone = r'\\d{3}-\\d{3}-\\d{4}'\n",
    "\n",
    "# Substituindo os números de telefone por \"XXX-XXX-XXXX\"\n",
    "texto_modificado = re.sub(padrao_telefone, 'XXX-XXX-XXXX', texto)\n",
    "\n",
    "print(texto_modificado)"
   ]
  },
  {
   "cell_type": "markdown",
   "id": "e5379538-76de-4d97-afe7-49f2bd463814",
   "metadata": {
    "jp-MarkdownHeadingCollapsed": true
   },
   "source": [
    "### Métodos Estatísticos\n",
    "\n",
    "https://docs.python.org/3/library/statistics.html"
   ]
  },
  {
   "cell_type": "code",
   "execution_count": null,
   "id": "149c6cc7-615f-40ab-8246-661c8e801fae",
   "metadata": {},
   "outputs": [],
   "source": [
    "import statistics"
   ]
  },
  {
   "cell_type": "code",
   "execution_count": null,
   "id": "ba7929b6-a36c-4204-8f47-4af1b17ce439",
   "metadata": {},
   "outputs": [],
   "source": [
    "# Dados de exemplo: notas de alunos\n",
    "notas = [7.5, 8.2, 9.1, 6.8, 7.0, 8.5, 6.3, 7.9, 8.0]\n",
    "\n",
    "# Calcular a média\n",
    "media = statistics.mean(notas)\n",
    "print(\"Média das notas:\", media)\n",
    "\n",
    "# Calcular a mediana\n",
    "mediana = statistics.median(notas)\n",
    "print(\"Mediana das notas:\", mediana)"
   ]
  },
  {
   "cell_type": "code",
   "execution_count": null,
   "id": "14ea2c5d-c8c9-4468-8c1f-52dae3e4dba7",
   "metadata": {},
   "outputs": [],
   "source": [
    "# Calcular a variância\n",
    "variancia = statistics.variance(notas)\n",
    "print(\"Variância das notas:\", variancia)"
   ]
  },
  {
   "cell_type": "code",
   "execution_count": null,
   "id": "41a88520-e1e8-4e9e-806f-747fef33b1b0",
   "metadata": {},
   "outputs": [],
   "source": [
    "# Calcular o desvio padrão\n",
    "desvio_padrao = statistics.stdev(notas)\n",
    "print(\"Desvio padrão das notas:\", desvio_padrao)"
   ]
  },
  {
   "cell_type": "code",
   "execution_count": null,
   "id": "553f1b36-cb86-442a-bb61-8fb80d129dad",
   "metadata": {},
   "outputs": [],
   "source": [
    "# Gerando notas fictícias de Português e Matemática\n",
    "notas_portugues = [7.0, 8.5, 9.0, 6.8, 7.5, 8.2, 7.9, 6.0, 9.2, 7.8]\n",
    "notas_matematica = [6.5, 8.0, 9.5, 6.0, 7.0, 8.5, 7.3, 5.5, 9.0, 7.6]"
   ]
  },
  {
   "cell_type": "code",
   "execution_count": null,
   "id": "aca9bf1e-57e0-4b49-a158-79b9407e6811",
   "metadata": {},
   "outputs": [],
   "source": [
    "# Calcular o correlação\n",
    "correlacao = statistics.correlation(notas_portugues, notas_matematica)\n",
    "print(\"Correlação padrão das notas:\", correlacao)"
   ]
  },
  {
   "cell_type": "markdown",
   "id": "8e3880c5-7a20-4f43-8879-a03864efbe2b",
   "metadata": {
    "jp-MarkdownHeadingCollapsed": true
   },
   "source": [
    "### Alias de uma Biblioteca"
   ]
  },
  {
   "cell_type": "code",
   "execution_count": null,
   "id": "d4eade40-e9a8-44f1-a7fe-aef56a0db586",
   "metadata": {},
   "outputs": [],
   "source": [
    "import datetime as dt"
   ]
  },
  {
   "cell_type": "code",
   "execution_count": null,
   "id": "aae3c45f-fe0b-424e-aeb8-aa6491472320",
   "metadata": {},
   "outputs": [],
   "source": [
    "print(dt.datetime.now())"
   ]
  },
  {
   "cell_type": "code",
   "execution_count": null,
   "id": "5f841948-a349-49f2-92a6-42ad1b942a4e",
   "metadata": {},
   "outputs": [],
   "source": [
    "import statistics as sta"
   ]
  },
  {
   "cell_type": "code",
   "execution_count": null,
   "id": "f12fa6bc-b21b-4ff9-9afe-942b069ec86c",
   "metadata": {},
   "outputs": [],
   "source": [
    "variancia = sta.variance(notas)\n",
    "print(\"Variância das notas:\", variancia)"
   ]
  },
  {
   "cell_type": "markdown",
   "id": "bba117f0-ac96-40e4-87cd-829232346fc4",
   "metadata": {},
   "source": [
    "--------------------------------\n",
    "## Bibliotecas Externas"
   ]
  },
  {
   "cell_type": "markdown",
   "id": "6c189b35-6827-4991-8211-026f460c31e6",
   "metadata": {
    "jp-MarkdownHeadingCollapsed": true
   },
   "source": [
    "### Vetores e Matrizes - NumPy\n",
    "\n",
    "https://numpy.org/"
   ]
  },
  {
   "cell_type": "code",
   "execution_count": null,
   "id": "a04e5406-76a0-4b2a-8c6d-e40c2573935a",
   "metadata": {},
   "outputs": [],
   "source": [
    "vetor = [1,0,2] # Listas não funcionam como vetores!\n",
    "print(type(vetor))  "
   ]
  },
  {
   "cell_type": "code",
   "execution_count": null,
   "id": "0bf9b981-9060-4e5a-a943-64bd63b696c0",
   "metadata": {},
   "outputs": [],
   "source": [
    "aumentar_escala = 2*vetor # Operacao de Replicação\n",
    "aumentar_escala"
   ]
  },
  {
   "cell_type": "code",
   "execution_count": null,
   "id": "2877a13d-6eaa-4a76-b4ff-d64d5472391e",
   "metadata": {},
   "outputs": [],
   "source": [
    "soma = [1,1,1] + vetor  # Operação de Concatenação\n",
    "soma"
   ]
  },
  {
   "cell_type": "code",
   "execution_count": null,
   "id": "20d98397-ad1c-47f7-a54d-12616c8e81d4",
   "metadata": {},
   "outputs": [],
   "source": [
    "import numpy as np"
   ]
  },
  {
   "cell_type": "code",
   "execution_count": null,
   "id": "99805352-1f1a-44c1-93e2-0076a0dc9821",
   "metadata": {},
   "outputs": [],
   "source": [
    "vetor_numpy = np.array(vetor)"
   ]
  },
  {
   "cell_type": "code",
   "execution_count": null,
   "id": "4293064c-fae4-4fea-b8b0-df51a11410b1",
   "metadata": {},
   "outputs": [],
   "source": [
    "aumentar_escala = 2*vetor_numpy  # Multiplicação por escalar\n",
    "aumentar_escala"
   ]
  },
  {
   "cell_type": "code",
   "execution_count": null,
   "id": "5531496c-eb7d-4576-a556-ecc7e7702f31",
   "metadata": {},
   "outputs": [],
   "source": [
    "soma = [1,1,1] + vetor_numpy  # Soma vetorial\n",
    "soma"
   ]
  },
  {
   "cell_type": "code",
   "execution_count": null,
   "id": "48c4173a-dc5b-4dcc-ba20-56b6ad810b4c",
   "metadata": {},
   "outputs": [],
   "source": [
    "vetor_A = np.array([1, 2, 3])\n",
    "vetor_B = np.array([1, 0, 1])\n",
    "\n",
    "produto_escalar = np.dot(vetor_A, vetor_B)  # Produto Escalar\n",
    "print(produto_escalar)"
   ]
  },
  {
   "cell_type": "code",
   "execution_count": null,
   "id": "ba4384a3-d1eb-4fbb-81ea-f291d31316da",
   "metadata": {},
   "outputs": [],
   "source": [
    "produto_vetorial = np.cross(vetor_A, vetor_B)  # Produto Vetorial\n",
    "print(produto_vetorial)"
   ]
  },
  {
   "cell_type": "code",
   "execution_count": null,
   "id": "7056bb97-6872-4a32-9bf0-bcc1f6a0bb16",
   "metadata": {},
   "outputs": [],
   "source": [
    "matriz_numpy = np.array([[1, 2, 3], [4, 5, 6], [7, 8, 9]])\n",
    "matriz_numpy"
   ]
  },
  {
   "cell_type": "code",
   "execution_count": null,
   "id": "483e4819-c79f-4659-bce8-82d12ac65092",
   "metadata": {},
   "outputs": [],
   "source": [
    "matriz_transposta = np.transpose(matriz_numpy)\n",
    "matriz_transposta"
   ]
  },
  {
   "cell_type": "code",
   "execution_count": null,
   "id": "a29a0e51-26da-4aa0-8066-e62b6be01210",
   "metadata": {},
   "outputs": [],
   "source": [
    "soma = np.sum(matriz_numpy)  # Soma de todos os elementos da matriz\n",
    "print(soma)"
   ]
  },
  {
   "cell_type": "code",
   "execution_count": null,
   "id": "36a3175a-c1eb-40ef-a9bc-d1b2fadbff79",
   "metadata": {},
   "outputs": [],
   "source": [
    "traco = np.trace(matriz_numpy)  # Traço da matriz\n",
    "print(traco)"
   ]
  },
  {
   "cell_type": "code",
   "execution_count": null,
   "id": "fa508951-e8f4-4b7d-ae1b-0573628f7897",
   "metadata": {},
   "outputs": [],
   "source": [
    "determinante = np.linalg.det(matriz_numpy)\n",
    "print(determinante)"
   ]
  },
  {
   "cell_type": "code",
   "execution_count": null,
   "id": "672650e5-61c8-4f61-a9ca-b862640c4ca6",
   "metadata": {},
   "outputs": [],
   "source": [
    "matriz_numpy = np.array([[4, 7], [2, 6]])\n",
    "matriz_numpy"
   ]
  },
  {
   "cell_type": "code",
   "execution_count": null,
   "id": "a8456758-5459-475b-8cd8-6ede82c5f479",
   "metadata": {},
   "outputs": [],
   "source": [
    "matriz_inversa = np.linalg.inv(matriz_numpy)\n",
    "matriz_inversa"
   ]
  },
  {
   "cell_type": "code",
   "execution_count": null,
   "id": "42465b54-98f0-45cb-96d7-fe32eb81c186",
   "metadata": {},
   "outputs": [],
   "source": [
    "# Verificando se a multiplicação da matriz original pela inversa resulta na matriz identidade\n",
    "identidade = np.dot(matriz_numpy, matriz_inversa)\n",
    "identidade"
   ]
  },
  {
   "cell_type": "code",
   "execution_count": null,
   "id": "69e1c6af-bd5f-4e5e-9f2c-bb1fda55b096",
   "metadata": {},
   "outputs": [],
   "source": [
    "autovalores = np.linalg.eigvals(matriz_numpy)\n",
    "print(autovalores)"
   ]
  },
  {
   "cell_type": "code",
   "execution_count": null,
   "id": "8052e1d1-a420-456d-9393-a648830f6a52",
   "metadata": {},
   "outputs": [],
   "source": [
    "autovalores, autovetores = np.linalg.eig(matriz_numpy)\n",
    "print(autovalores)\n",
    "print(autovetores)"
   ]
  },
  {
   "cell_type": "markdown",
   "id": "f91922fc-9002-4c4e-b2b9-d9ded85b453b",
   "metadata": {
    "jp-MarkdownHeadingCollapsed": true
   },
   "source": [
    "### Computação Científica - SciPy\n",
    "https://scipy.org/"
   ]
  },
  {
   "cell_type": "code",
   "execution_count": null,
   "id": "838a2c6b-a6a0-4588-928b-7bab6332c78f",
   "metadata": {},
   "outputs": [],
   "source": [
    "from scipy import optimize  # Estamos importando apenas uma parte do SciPy, aquela que faz otimizaçao numérica"
   ]
  },
  {
   "cell_type": "code",
   "execution_count": null,
   "id": "2da358b5-083d-4b17-b4dd-28f172383ab2",
   "metadata": {},
   "outputs": [],
   "source": [
    "# Definindo a função a ser minimizada\n",
    "def funcao(x):\n",
    "    return (x - 3)**2 + 4  # Nesta funcao quadradica o minimo sera no ponto de vértice"
   ]
  },
  {
   "cell_type": "code",
   "execution_count": null,
   "id": "d9f5e2eb-1f61-443b-919c-a966b1dc2f53",
   "metadata": {},
   "outputs": [],
   "source": [
    "funcao(2)"
   ]
  },
  {
   "cell_type": "code",
   "execution_count": null,
   "id": "31eeb3ce-1b42-406d-8e91-1904760cb1be",
   "metadata": {},
   "outputs": [],
   "source": [
    "funcao(0)"
   ]
  },
  {
   "cell_type": "code",
   "execution_count": null,
   "id": "dacd07ae-69d0-44f9-aae5-8fb6412f6c1d",
   "metadata": {},
   "outputs": [],
   "source": [
    "resultado = optimize.minimize(funcao, x0=0)\n",
    "resultado.x"
   ]
  },
  {
   "cell_type": "code",
   "execution_count": null,
   "id": "c3a7a94c-4ab5-4b48-8b54-639d5b745bf9",
   "metadata": {},
   "outputs": [],
   "source": [
    "resultado"
   ]
  },
  {
   "cell_type": "code",
   "execution_count": null,
   "id": "577a98d0-6a0e-474a-a1cb-022e1e34140f",
   "metadata": {},
   "outputs": [],
   "source": [
    "from scipy.linalg import solve  # Para solucionar sistemas de equações"
   ]
  },
  {
   "cell_type": "code",
   "execution_count": null,
   "id": "a54e040e-a349-49d4-aecb-bf843a9edd74",
   "metadata": {},
   "outputs": [],
   "source": [
    "# Coeficientes da matriz A\n",
    "A = np.array([[2, 3],\n",
    "              [4, 0]])\n",
    "\n",
    "# Termos independentes (vetor b)\n",
    "b = np.array([6, 3])\n",
    "\n",
    "# Resolvendo o sistema A * x = b\n",
    "solucao = solve(A, b)"
   ]
  },
  {
   "cell_type": "code",
   "execution_count": null,
   "id": "274b4f9b-4bb6-43c0-8da9-3feeeebf3474",
   "metadata": {},
   "outputs": [],
   "source": [
    "solucao"
   ]
  }
 ],
 "metadata": {
  "kernelspec": {
   "display_name": "Python 3 (ipykernel)",
   "language": "python",
   "name": "python3"
  },
  "language_info": {
   "codemirror_mode": {
    "name": "ipython",
    "version": 3
   },
   "file_extension": ".py",
   "mimetype": "text/x-python",
   "name": "python",
   "nbconvert_exporter": "python",
   "pygments_lexer": "ipython3",
   "version": "3.12.4"
  }
 },
 "nbformat": 4,
 "nbformat_minor": 5
}
