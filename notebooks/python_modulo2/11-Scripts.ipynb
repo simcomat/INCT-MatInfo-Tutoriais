{
 "cells": [
  {
   "cell_type": "markdown",
   "id": "72697d94",
   "metadata": {},
   "source": [
    "# 11 - Scripts\n",
    "\n",
    "Um script em Python é basicamente um arquivo de código que contém uma sequência de instruções escritas na linguagem Python. Esse arquivo pode ser executado para realizar uma tarefa específica, como automatizar processos, manipular dados, fazer cálculos ou até mesmo interagir com outras tecnologias."
   ]
  },
  {
   "cell_type": "markdown",
   "id": "67276f34-4f54-4958-8ce0-5e2d83ed3383",
   "metadata": {
    "jp-MarkdownHeadingCollapsed": true
   },
   "source": [
    "## Command-Line Interface CLI\n",
    "\n",
    "A ideia é criar um script que será chamado via linha de comando para realizar alguma tarefa. A biblioteca natica <code>argparse</code> fornece métodos para esse fim. \n",
    "\n",
    "https://docs.python.org/3/library/argparse.html"
   ]
  },
  {
   "cell_type": "code",
   "execution_count": null,
   "id": "bfa0f58e-2f17-4177-93f0-78319f745d5c",
   "metadata": {},
   "outputs": [],
   "source": [
    "# Copiar em um editor de texto e salvar como script1.py\n",
    "\n",
    "'''\n",
    "import argparse\n",
    "\n",
    "# Cria o parser\n",
    "parser = argparse.ArgumentParser(description=\"Este script recebe dois números e calcula a soma.\")\n",
    "\n",
    "# Adiciona os argumentos\n",
    "parser.add_argument(\"num1\", type=int, help=\"O primeiro número\")\n",
    "parser.add_argument(\"num2\", type=int, help=\"O segundo número\")\n",
    "\n",
    "# Parseia os argumentos\n",
    "args = parser.parse_args()\n",
    "\n",
    "# Calcula a soma\n",
    "soma = args.num1 + args.num2\n",
    "\n",
    "# Exibe o resultado\n",
    "print(f\"A soma de {args.num1} e {args.num2} é {soma}.\")\n",
    "\n",
    "'''"
   ]
  },
  {
   "cell_type": "code",
   "execution_count": null,
   "id": "a0bfa807-1e3d-4b13-bdb1-394fe00a9e0c",
   "metadata": {},
   "outputs": [],
   "source": [
    "# Executando o código\n",
    "!python script1.py"
   ]
  },
  {
   "cell_type": "markdown",
   "id": "c4d28af7-32cb-44c0-aa76-3858216125fe",
   "metadata": {
    "jp-MarkdownHeadingCollapsed": true
   },
   "source": [
    "## Subprocess\n",
    "\n",
    "O módulo subprocess em Python permite que você execute comandos do sistema operacional diretamente a partir de um script Python. Isso é útil quando você quer invocar outros programas ou comandos externos a partir do seu código Python.\n",
    "\n",
    "https://docs.python.org/3/library/subprocess.html"
   ]
  },
  {
   "cell_type": "code",
   "execution_count": null,
   "id": "7c49b124-91b8-45e4-a547-74da715dc6a6",
   "metadata": {},
   "outputs": [],
   "source": [
    "# Copiar em um editor de texto e salvar como script2.py\n",
    "\n",
    "'''\n",
    "import subprocess\n",
    "\n",
    "# Definir o comando que você quer executar\n",
    "comando = [\"echo\", \"Olá, Mundo!\"]\n",
    "#comando = [\"ls\", \"-l\"]\n",
    "\n",
    "# Executa o comando e captura a saída\n",
    "resultado = subprocess.run(comando, capture_output=True, text=True)\n",
    "\n",
    "# Exibe o que foi retornado do comando\n",
    "print(\"Saída do comando:\", resultado.stdout)\n",
    "'''"
   ]
  },
  {
   "cell_type": "markdown",
   "id": "ca6c9d64-2dee-44a9-9f7f-a62287a4b402",
   "metadata": {
    "jp-MarkdownHeadingCollapsed": true
   },
   "source": [
    "## Import\n",
    "\n",
    "Se o seu objetivo é chamar funções de outro script sem precisar executá-lo como um processo separado, você pode usar o módulo <code>import</code>. Isso faz com que você execute diretamente o código do outro script, sem precisar chamar o Python via linha de comando.\n",
    "\n",
    "https://docs.python.org/3/reference/import.html"
   ]
  },
  {
   "cell_type": "code",
   "execution_count": null,
   "id": "d269cf8f-6275-4ae8-9d01-12e3d7e99523",
   "metadata": {},
   "outputs": [],
   "source": [
    "# Copiar em um editor de texto e salvar como script3.py\n",
    "'''\n",
    "def saudacao():\n",
    "    print(\"Olá do script2! A função foi chamada com sucesso.\")\n",
    "''' "
   ]
  },
  {
   "cell_type": "code",
   "execution_count": null,
   "id": "1ad39879-8531-4d5d-85a4-bc208f4da4be",
   "metadata": {},
   "outputs": [],
   "source": [
    "import script3\n",
    "\n",
    "# Chama a função saudacao de script3.py\n",
    "script3.saudacao()"
   ]
  }
 ],
 "metadata": {
  "kernelspec": {
   "display_name": "Python 3 (ipykernel)",
   "language": "python",
   "name": "python3"
  },
  "language_info": {
   "codemirror_mode": {
    "name": "ipython",
    "version": 3
   },
   "file_extension": ".py",
   "mimetype": "text/x-python",
   "name": "python",
   "nbconvert_exporter": "python",
   "pygments_lexer": "ipython3",
   "version": "3.12.4"
  }
 },
 "nbformat": 4,
 "nbformat_minor": 5
}
