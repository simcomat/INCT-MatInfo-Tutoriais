{
 "cells": [
  {
   "cell_type": "markdown",
   "id": "134f1b15-f2e0-45a1-8c9c-1738d52c66be",
   "metadata": {},
   "source": [
    "# 3 - Estruturas Condicionais\n",
    "\n",
    "O <code>if</code> (em português, se) é uma estrutura condicional presente em praticamente todas as linguagens de programação. A função do <code>if</code> é controlar o fluxo de execução do programa, para que certas linhas de código só sejam executadas quando quando uma determinada condição é atendida.\n",
    "\n",
    "Os comandos condicionais são código (keywords) reservadas pela linguagem de programação para realizar o controle condicional. Em Python temos:\n",
    "- <code>if</code>\n",
    "- <code>else</code>\n",
    "- <code>elif</code>"
   ]
  },
  {
   "cell_type": "markdown",
   "id": "c1889343-e8d1-4506-9ccf-d86930aeb1da",
   "metadata": {
    "jp-MarkdownHeadingCollapsed": true
   },
   "source": [
    "## Comandos condicionais"
   ]
  },
  {
   "cell_type": "code",
   "execution_count": 1,
   "id": "08a94226-0dc8-4e54-bbe4-70c9ede46c78",
   "metadata": {},
   "outputs": [
    {
     "name": "stdout",
     "output_type": "stream",
     "text": [
      "o valor da variável a é VERDADEIRO\n"
     ]
    }
   ],
   "source": [
    "a = True\n",
    "\n",
    "if a:\n",
    "    print(\"o valor da variável a é VERDADEIRO\")\n",
    "\n",
    "# se mudarmos a para False então o código print não será executado, pois tal linha de código não será atingida durante a execução"
   ]
  },
  {
   "cell_type": "code",
   "execution_count": 2,
   "id": "fc8542be-a9cd-4c47-b85f-48dd8a14da6b",
   "metadata": {},
   "outputs": [
    {
     "name": "stdout",
     "output_type": "stream",
     "text": [
      "o valor da variável a é FALSO\n"
     ]
    }
   ],
   "source": [
    "# Neste caso estamos explicitando o que deve ser executado quando a condição não é antendida\n",
    "\n",
    "a = False\n",
    "\n",
    "if a:\n",
    "    print(\"o valor da variável a é VERDADEIRO\")\n",
    "else:\n",
    "    print(\"o valor da variável a é FALSO\")"
   ]
  },
  {
   "cell_type": "code",
   "execution_count": 3,
   "id": "8cdf524d-4408-460c-a7ff-53397db19f4a",
   "metadata": {},
   "outputs": [
    {
     "name": "stdout",
     "output_type": "stream",
     "text": [
      "2\n"
     ]
    }
   ],
   "source": [
    "condicao1 = False\n",
    "condicao2 = True\n",
    "\n",
    "if condicao1:\n",
    "    # código se a condição1 for verdadeira\n",
    "    print(\"1\")\n",
    "elif condicao2:\n",
    "    # código se a condição2 for verdadeira\n",
    "    print(\"2\")\n",
    "else:\n",
    "    # código se todas as condições anteriores forem falsas\n",
    "    print(\"outros\")"
   ]
  },
  {
   "cell_type": "markdown",
   "id": "dec300ee-d939-482e-a97c-41c782ed112a",
   "metadata": {
    "jp-MarkdownHeadingCollapsed": true
   },
   "source": [
    "## Operadores de Comparação\n",
    "\n",
    "- <code>==</code>: Igualdade\n",
    "- <code>!=</code>: Diferente\n",
    "- <code>></code>: Maior que\n",
    "- <code><</code>: Menor que\n",
    "- <code>>=</code>: Maior ou igual a\n",
    "- <code><=</code>: Menor ou igual a\n",
    "- <code>is</code>: Verifica se dois objetos têm a mesma identidade, ou seja, se são o mesmo objeto na memória\n",
    "- <code>is not</code>: Verifica se dois objetos têm a mesma identidade, ou seja, se são o mesmo objeto na memória."
   ]
  },
  {
   "cell_type": "code",
   "execution_count": 4,
   "id": "d6741abe-5198-44b1-873a-e61619c4bc35",
   "metadata": {},
   "outputs": [],
   "source": [
    "a = int(10)\n",
    "b = float(10)\n",
    "c = 20\n",
    "d = c"
   ]
  },
  {
   "cell_type": "code",
   "execution_count": 5,
   "id": "8bf63492-13b8-46d1-a8ed-81df31115dcf",
   "metadata": {},
   "outputs": [
    {
     "name": "stdout",
     "output_type": "stream",
     "text": [
      "A e B têm o mesmo valor associado\n"
     ]
    }
   ],
   "source": [
    "if a == b:\n",
    "    print('A e B têm o mesmo valor associado')\n",
    "else:\n",
    "    print('A e B não têm o mesmo valor associado')"
   ]
  },
  {
   "cell_type": "code",
   "execution_count": 6,
   "id": "e7d5cbb3-9608-481b-84f3-383031cddb2a",
   "metadata": {},
   "outputs": [
    {
     "name": "stdout",
     "output_type": "stream",
     "text": [
      "A é menor que C\n"
     ]
    }
   ],
   "source": [
    "# Podemos realizar uma condicional \n",
    "if a == c:\n",
    "    print('A e C são iguais')\n",
    "elif a > c:\n",
    "    print('A é maior que C')\n",
    "elif a < c:\n",
    "    print('A é menor que C')\n",
    "else:\n",
    "    print('Essa condição nunca será atiginda')"
   ]
  },
  {
   "cell_type": "markdown",
   "id": "8907ad10-99f9-4e9e-aea2-7578dabc99cd",
   "metadata": {},
   "source": [
    "### Valores, Tipos e Endereços\n",
    "\n",
    "Conceito avançados de programação que podem te ajudar a resolver vários erros de código:\n",
    "\n",
    "a)  Podemos comparar **valores** mas também podem verificar **tipos**;\n",
    "\n",
    "b) Devemos diferenciar **o valor que uma variável assume** do **valor de endereço de memória para o qual a variável aponta**;"
   ]
  },
  {
   "cell_type": "code",
   "execution_count": 7,
   "id": "bf284f25-2e4e-44eb-95c8-366239dcb474",
   "metadata": {},
   "outputs": [
    {
     "name": "stdout",
     "output_type": "stream",
     "text": [
      "A e B têm o MESMO VALOR\n"
     ]
    }
   ],
   "source": [
    "if a == b:\n",
    "    print('A e B têm o MESMO VALOR')\n",
    "else:\n",
    "    print('A e B não têm o MESMO VALOR')"
   ]
  },
  {
   "cell_type": "code",
   "execution_count": 8,
   "id": "3dbc97e8-fd92-4480-b352-6889c2d1cac8",
   "metadata": {},
   "outputs": [
    {
     "name": "stdout",
     "output_type": "stream",
     "text": [
      "A e B NÃO SÃO a mesma variável na memória RAM\n"
     ]
    }
   ],
   "source": [
    "if a is b:\n",
    "    print('A e B SÃO a mesma variável na memória RAM')\n",
    "else:\n",
    "    print('A e B NÃO SÃO a mesma variável na memória RAM')"
   ]
  },
  {
   "cell_type": "code",
   "execution_count": 9,
   "id": "42e7e2a5-bab5-44a8-8170-bf4284e4bc98",
   "metadata": {},
   "outputs": [
    {
     "data": {
      "text/plain": [
       "False"
      ]
     },
     "execution_count": 9,
     "metadata": {},
     "output_type": "execute_result"
    }
   ],
   "source": [
    "type(a) == type(b) # Verificar tipo"
   ]
  },
  {
   "cell_type": "code",
   "execution_count": 10,
   "id": "5d35e326-e0e9-423d-a35e-9034af48f78e",
   "metadata": {},
   "outputs": [
    {
     "data": {
      "text/plain": [
       "False"
      ]
     },
     "execution_count": 10,
     "metadata": {},
     "output_type": "execute_result"
    }
   ],
   "source": [
    "id(a) == id(b)  # Função do python pra mostrar o identificador do objeto"
   ]
  },
  {
   "cell_type": "code",
   "execution_count": 11,
   "id": "6f15962f-2803-49d7-b78a-8a304957e35e",
   "metadata": {},
   "outputs": [],
   "source": [
    "la = [1,2,3]\n",
    "lb = [1,2,3]\n",
    "lc = la"
   ]
  },
  {
   "cell_type": "code",
   "execution_count": 12,
   "id": "7e4eba11-66a2-460b-a5ce-00ae46b3ca7f",
   "metadata": {},
   "outputs": [
    {
     "data": {
      "text/plain": [
       "True"
      ]
     },
     "execution_count": 12,
     "metadata": {},
     "output_type": "execute_result"
    }
   ],
   "source": [
    "la == lb"
   ]
  },
  {
   "cell_type": "code",
   "execution_count": 13,
   "id": "475334e6-ba1c-4579-9bbc-4fe99a34c16b",
   "metadata": {},
   "outputs": [
    {
     "data": {
      "text/plain": [
       "True"
      ]
     },
     "execution_count": 13,
     "metadata": {},
     "output_type": "execute_result"
    }
   ],
   "source": [
    "la == lc"
   ]
  },
  {
   "cell_type": "code",
   "execution_count": 14,
   "id": "9957de07-8d9b-4587-99d3-8eb7ff8fd312",
   "metadata": {},
   "outputs": [
    {
     "data": {
      "text/plain": [
       "False"
      ]
     },
     "execution_count": 14,
     "metadata": {},
     "output_type": "execute_result"
    }
   ],
   "source": [
    "id(la)==id(lb)"
   ]
  },
  {
   "cell_type": "code",
   "execution_count": 15,
   "id": "29d42367-bc05-4e47-9369-e4b265e72698",
   "metadata": {},
   "outputs": [],
   "source": [
    "if la is lb:\n",
    "    print(\"são a mesma variável\")"
   ]
  },
  {
   "cell_type": "code",
   "execution_count": 16,
   "id": "4874e8d6-75ab-4228-b699-78343e630c16",
   "metadata": {},
   "outputs": [
    {
     "data": {
      "text/plain": [
       "True"
      ]
     },
     "execution_count": 16,
     "metadata": {},
     "output_type": "execute_result"
    }
   ],
   "source": [
    "id(la)==id(lc)"
   ]
  },
  {
   "cell_type": "code",
   "execution_count": 17,
   "id": "a98a6308-8494-4e90-ac21-06c3dff9d195",
   "metadata": {},
   "outputs": [
    {
     "name": "stdout",
     "output_type": "stream",
     "text": [
      "são a mesma variável\n"
     ]
    }
   ],
   "source": [
    "if la is lc:\n",
    "    print(\"são a mesma variável\")"
   ]
  },
  {
   "cell_type": "code",
   "execution_count": 18,
   "id": "85d9e94b-b846-4f4f-95e3-5da90fb39696",
   "metadata": {},
   "outputs": [
    {
     "name": "stdout",
     "output_type": "stream",
     "text": [
      "True\n",
      "True\n",
      "2512533208768 2512533208768\n"
     ]
    }
   ],
   "source": [
    "# Lembre-se que sinal de igual em objetos como listas cria uma referência para a mesma posição da memória\n",
    "matrix = [[1,2,3],\n",
    "          [4,5,6],\n",
    "          [7,8,9]]\n",
    "\n",
    "matrix2 = matrix\n",
    "\n",
    "print(matrix == matrix2)\n",
    "print(matrix is matrix2)\n",
    "print(id(matrix), id(matrix2))"
   ]
  },
  {
   "cell_type": "code",
   "execution_count": 19,
   "id": "dd80f11f-42aa-4d5e-939a-0ea2be74ebe1",
   "metadata": {},
   "outputs": [
    {
     "name": "stdout",
     "output_type": "stream",
     "text": [
      "True\n",
      "False\n",
      "2512533208768 2512533212992\n"
     ]
    }
   ],
   "source": [
    "matrix_copiada = matrix.copy()  # Estamos copiando os elementos da matriz e não a posição da memória\n",
    "\n",
    "print(matrix == matrix_copiada)\n",
    "print(matrix is matrix_copiada)\n",
    "print(id(matrix), id(matrix_copiada))"
   ]
  },
  {
   "cell_type": "markdown",
   "id": "e604c4a2-f740-445e-ad8d-09fb2fb6e39f",
   "metadata": {},
   "source": [
    "#### Observação:"
   ]
  },
  {
   "cell_type": "code",
   "execution_count": 20,
   "id": "0c1abdd7-63aa-4a4c-bb6e-940edfcf2b9d",
   "metadata": {},
   "outputs": [
    {
     "name": "stdout",
     "output_type": "stream",
     "text": [
      "True\n",
      "True\n",
      "140707110009560 140707110009560\n"
     ]
    }
   ],
   "source": [
    "a = 10\n",
    "b = 10\n",
    "\n",
    "print(a == b)\n",
    "print(a is b)\n",
    "print(id(a), id(b))"
   ]
  },
  {
   "cell_type": "markdown",
   "id": "bbd79126-068f-4943-96a7-c8a71a3646bc",
   "metadata": {},
   "source": [
    "retorna <code>True</code> porque inteiros pequenos são tratados como objetos imutáveis e são compartilhados internamente pelo interpretador Python, devido a uma otimização chamada interning."
   ]
  },
  {
   "cell_type": "markdown",
   "id": "0c827db9-81f5-46cf-80f7-c9763265c8d0",
   "metadata": {
    "jp-MarkdownHeadingCollapsed": true
   },
   "source": [
    "## Operadores Lógicos\n",
    "- <code>and</code>: Retorna True se ambas as condições forem verdadeiras.\n",
    "- <code>or</code>: Retorna True se pelo menos uma condição for verdadeira.\n",
    "- <code>not</code>: Inverte o valor lógico de uma condição.\n",
    "- <code>in</code>: Verifica se um valor está presente em uma sequência.\n",
    "- <code>not in</code>: Verifica se um valor não está presente em uma sequência.\n",
    "- <code>any()</code>: Retorna True se pelo menos um valor de uma sequência for verdadeiro.\n",
    "- <code>all()</code>: Retorna True se todos os valores de uma sequência forem verdadeiros."
   ]
  },
  {
   "cell_type": "code",
   "execution_count": 21,
   "id": "72377216-93c6-48f6-8c45-9f0b91fd6fcc",
   "metadata": {},
   "outputs": [
    {
     "name": "stdout",
     "output_type": "stream",
     "text": [
      "A+B está dentro do limite C e B é maior do que A\n"
     ]
    }
   ],
   "source": [
    "a = 10\n",
    "b = 25\n",
    "c = 100\n",
    "\n",
    "if (a + b <= c) and (b > a):\n",
    "    print(\"A+B está dentro do limite C e B é maior do que A\")"
   ]
  },
  {
   "cell_type": "code",
   "execution_count": 22,
   "id": "7ed13916-0d57-4ebf-a3cd-cd6c3847555c",
   "metadata": {},
   "outputs": [
    {
     "data": {
      "text/plain": [
       "True"
      ]
     },
     "execution_count": 22,
     "metadata": {},
     "output_type": "execute_result"
    }
   ],
   "source": [
    "c<a or a<b"
   ]
  },
  {
   "cell_type": "code",
   "execution_count": 23,
   "id": "ff4120f3-4b28-4b27-8566-4224d0e4e349",
   "metadata": {},
   "outputs": [
    {
     "name": "stdout",
     "output_type": "stream",
     "text": [
      "Condicao atingida\n"
     ]
    }
   ],
   "source": [
    "if c<a or a<b:\n",
    "    print(\"Condicao atingida\")"
   ]
  },
  {
   "cell_type": "code",
   "execution_count": 24,
   "id": "61625e9e-8b4d-4178-a633-3301723b3fde",
   "metadata": {},
   "outputs": [
    {
     "data": {
      "text/plain": [
       "False"
      ]
     },
     "execution_count": 24,
     "metadata": {},
     "output_type": "execute_result"
    }
   ],
   "source": [
    "sa = \"oi mundo\"\n",
    "sb = \"oi\"\n",
    "\n",
    "sa == sb"
   ]
  },
  {
   "cell_type": "code",
   "execution_count": 25,
   "id": "4cbaf70d-9036-4092-b081-197f1ba3df9d",
   "metadata": {},
   "outputs": [
    {
     "data": {
      "text/plain": [
       "False"
      ]
     },
     "execution_count": 25,
     "metadata": {},
     "output_type": "execute_result"
    }
   ],
   "source": [
    "sa in sb # \"oi mundo\" não está em \"oi\""
   ]
  },
  {
   "cell_type": "code",
   "execution_count": 26,
   "id": "b55d3e98-6ace-43b3-8fd4-244dd904d5f9",
   "metadata": {},
   "outputs": [
    {
     "data": {
      "text/plain": [
       "True"
      ]
     },
     "execution_count": 26,
     "metadata": {},
     "output_type": "execute_result"
    }
   ],
   "source": [
    "sb in sa # mas \"oi\" está em \"oi mundo\""
   ]
  },
  {
   "cell_type": "code",
   "execution_count": 27,
   "id": "8496d2f9-32ca-4a96-97ef-3ced8950569b",
   "metadata": {},
   "outputs": [
    {
     "name": "stdout",
     "output_type": "stream",
     "text": [
      "Há um três na lista\n"
     ]
    }
   ],
   "source": [
    "la = [1,2,3]\n",
    "\n",
    "if 3 in la:\n",
    "    print(\"Há um três na lista\")"
   ]
  },
  {
   "cell_type": "code",
   "execution_count": 28,
   "id": "23a2a3f5-1545-4fcb-9580-fcb9f5080c4b",
   "metadata": {},
   "outputs": [
    {
     "name": "stdout",
     "output_type": "stream",
     "text": [
      "['Uruguai', 'Argentina', 'Bolivia']\n"
     ]
    }
   ],
   "source": [
    "la = ['Uruguai','Argentina','Bolivia']\n",
    "print(la)"
   ]
  },
  {
   "cell_type": "code",
   "execution_count": 29,
   "id": "1299736c-0361-4c76-8663-dc571cd0ed0d",
   "metadata": {},
   "outputs": [],
   "source": [
    "if 'Brasil' not in la:\n",
    "    la.append('Brasil')\n",
    "else:\n",
    "    print('Brasil já está na lista')"
   ]
  },
  {
   "cell_type": "code",
   "execution_count": 30,
   "id": "579cd99a-4f9e-4e01-a43b-13dcb832532c",
   "metadata": {},
   "outputs": [
    {
     "name": "stdout",
     "output_type": "stream",
     "text": [
      "True\n"
     ]
    }
   ],
   "source": [
    "numbers = [0, 1, 2]\n",
    "result = any(numbers)\n",
    "print(result)"
   ]
  },
  {
   "cell_type": "code",
   "execution_count": 31,
   "id": "a08c6daf-633b-4bde-87f2-6ee294a81388",
   "metadata": {},
   "outputs": [
    {
     "data": {
      "text/plain": [
       "True"
      ]
     },
     "execution_count": 31,
     "metadata": {},
     "output_type": "execute_result"
    }
   ],
   "source": [
    "# Se tivermos uma sequência de True podemos usar o any() e o all()\n",
    "boolean_list = [True, True, False, False, True]\n",
    "\n",
    "any(boolean_list) # Pelo menos um verdadeiro"
   ]
  },
  {
   "cell_type": "code",
   "execution_count": 32,
   "id": "0e8ce885-2bf6-4f5d-ad89-9209b207459f",
   "metadata": {},
   "outputs": [
    {
     "data": {
      "text/plain": [
       "False"
      ]
     },
     "execution_count": 32,
     "metadata": {},
     "output_type": "execute_result"
    }
   ],
   "source": [
    "all(boolean_list) # Todos tem que ser verdadeiros"
   ]
  }
 ],
 "metadata": {
  "kernelspec": {
   "display_name": "Python 3 (ipykernel)",
   "language": "python",
   "name": "python3"
  },
  "language_info": {
   "codemirror_mode": {
    "name": "ipython",
    "version": 3
   },
   "file_extension": ".py",
   "mimetype": "text/x-python",
   "name": "python",
   "nbconvert_exporter": "python",
   "pygments_lexer": "ipython3",
   "version": "3.12.4"
  }
 },
 "nbformat": 4,
 "nbformat_minor": 5
}
