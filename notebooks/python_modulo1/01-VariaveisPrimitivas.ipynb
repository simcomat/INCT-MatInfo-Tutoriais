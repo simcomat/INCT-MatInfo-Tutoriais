{
 "cells": [
  {
   "cell_type": "markdown",
   "id": "72697d94",
   "metadata": {},
   "source": [
    "# 1 - Variáveis Primitivas em Python\n",
    "\n",
    "Em Python, as variáveis primitivas incluem:\n",
    "\n",
    "- **Inteiros (int):** Números inteiros, como 1, 100, -500.\n",
    "- **Flutuantes (float):** Números decimais, como 3.14, -0.001, 2.0.\n",
    "- **Booleanos (bool):** Valores verdadeiro (True) ou falso (False).\n",
    "- **Cadeias de caracteres (str):** Sequências de caracteres, como \"Olá, mundo!\", 'Python é incrível'.\n",
    "- **None:** Um tipo de dado especial que representa a ausência de valor ou um valor nulo.\n"
   ]
  },
  {
   "cell_type": "markdown",
   "id": "a9cfff14-1eeb-4ebd-a035-26d2b7e9bc24",
   "metadata": {
    "jp-MarkdownHeadingCollapsed": true
   },
   "source": [
    "## Explorando variáveis em Python"
   ]
  },
  {
   "cell_type": "code",
   "execution_count": 1,
   "id": "cbb9af9b",
   "metadata": {},
   "outputs": [],
   "source": [
    "# Criando um inteiro\n",
    "a = 10"
   ]
  },
  {
   "cell_type": "code",
   "execution_count": 2,
   "id": "05afe3ba",
   "metadata": {},
   "outputs": [
    {
     "name": "stdout",
     "output_type": "stream",
     "text": [
      "10\n"
     ]
    }
   ],
   "source": [
    "print(a)"
   ]
  },
  {
   "cell_type": "code",
   "execution_count": 3,
   "id": "d05e2681",
   "metadata": {},
   "outputs": [
    {
     "name": "stdout",
     "output_type": "stream",
     "text": [
      "<class 'int'>\n"
     ]
    }
   ],
   "source": [
    "print(type(a))"
   ]
  },
  {
   "cell_type": "code",
   "execution_count": 4,
   "id": "cb7b84cc",
   "metadata": {},
   "outputs": [],
   "source": [
    "# Criando um float\n",
    "b = 3.14"
   ]
  },
  {
   "cell_type": "code",
   "execution_count": 5,
   "id": "350fba29",
   "metadata": {},
   "outputs": [
    {
     "name": "stdout",
     "output_type": "stream",
     "text": [
      "<class 'float'>\n"
     ]
    }
   ],
   "source": [
    "print(type(b))"
   ]
  },
  {
   "cell_type": "code",
   "execution_count": 6,
   "id": "86c08bd3",
   "metadata": {},
   "outputs": [
    {
     "name": "stdout",
     "output_type": "stream",
     "text": [
      "True\n",
      "<class 'bool'>\n",
      "False\n",
      "<class 'bool'>\n"
     ]
    }
   ],
   "source": [
    "# Tipo booleano\n",
    "verdadeiro = True\n",
    "falso = False\n",
    "\n",
    "print(verdadeiro)\n",
    "print(type(verdadeiro))\n",
    "\n",
    "print(falso)\n",
    "print(type(falso))"
   ]
  },
  {
   "cell_type": "code",
   "execution_count": 7,
   "id": "e9fa9780",
   "metadata": {},
   "outputs": [
    {
     "name": "stdout",
     "output_type": "stream",
     "text": [
      "False\n",
      "<class 'bool'>\n"
     ]
    }
   ],
   "source": [
    "# Podemos usar a operação not para inverter (negar) o valor de uma variável booleana\n",
    "novo = not(verdadeiro)\n",
    "\n",
    "print(novo)\n",
    "print(type(novo))"
   ]
  },
  {
   "cell_type": "code",
   "execution_count": 8,
   "id": "188478d8",
   "metadata": {},
   "outputs": [],
   "source": [
    "# Tipo none é vazio\n",
    "c = None"
   ]
  },
  {
   "cell_type": "code",
   "execution_count": 9,
   "id": "79966025",
   "metadata": {},
   "outputs": [
    {
     "name": "stdout",
     "output_type": "stream",
     "text": [
      "None\n"
     ]
    }
   ],
   "source": [
    "print(c)"
   ]
  },
  {
   "cell_type": "code",
   "execution_count": 10,
   "id": "02743e19",
   "metadata": {},
   "outputs": [
    {
     "name": "stdout",
     "output_type": "stream",
     "text": [
      "<class 'NoneType'>\n"
     ]
    }
   ],
   "source": [
    "print(type(c))"
   ]
  },
  {
   "cell_type": "code",
   "execution_count": 11,
   "id": "b4c86e85",
   "metadata": {},
   "outputs": [
    {
     "name": "stdout",
     "output_type": "stream",
     "text": [
      "13.14\n"
     ]
    },
    {
     "data": {
      "text/plain": [
       "float"
      ]
     },
     "execution_count": 11,
     "metadata": {},
     "output_type": "execute_result"
    }
   ],
   "source": [
    "print(a+b)\n",
    "type(a+b)"
   ]
  },
  {
   "cell_type": "code",
   "execution_count": 12,
   "id": "bc2d4361",
   "metadata": {},
   "outputs": [
    {
     "ename": "TypeError",
     "evalue": "unsupported operand type(s) for +: 'NoneType' and 'int'",
     "output_type": "error",
     "traceback": [
      "\u001b[1;31m---------------------------------------------------------------------------\u001b[0m",
      "\u001b[1;31mTypeError\u001b[0m                                 Traceback (most recent call last)",
      "Cell \u001b[1;32mIn[12], line 1\u001b[0m\n\u001b[1;32m----> 1\u001b[0m \u001b[38;5;28mprint\u001b[39m(c\u001b[38;5;241m+\u001b[39ma)\n",
      "\u001b[1;31mTypeError\u001b[0m: unsupported operand type(s) for +: 'NoneType' and 'int'"
     ]
    }
   ],
   "source": [
    "print(c+a)"
   ]
  },
  {
   "cell_type": "code",
   "execution_count": 13,
   "id": "79464681",
   "metadata": {},
   "outputs": [
    {
     "name": "stdout",
     "output_type": "stream",
     "text": [
      "-9\n"
     ]
    }
   ],
   "source": [
    "c=-19\n",
    "print(c+a)"
   ]
  },
  {
   "cell_type": "code",
   "execution_count": 14,
   "id": "f97dbc04",
   "metadata": {},
   "outputs": [],
   "source": [
    "# Criando uma string\n",
    "d = 'oi mundo \"maravilho\"!'"
   ]
  },
  {
   "cell_type": "code",
   "execution_count": 15,
   "id": "f3616b25",
   "metadata": {},
   "outputs": [
    {
     "name": "stdout",
     "output_type": "stream",
     "text": [
      "oi mundo \"maravilho\"!\n"
     ]
    }
   ],
   "source": [
    "print(d)"
   ]
  },
  {
   "cell_type": "code",
   "execution_count": 16,
   "id": "c878b8a9",
   "metadata": {},
   "outputs": [
    {
     "name": "stdout",
     "output_type": "stream",
     "text": [
      "<class 'str'>\n"
     ]
    }
   ],
   "source": [
    "print(type(d))"
   ]
  },
  {
   "cell_type": "code",
   "execution_count": 17,
   "id": "464c64b8",
   "metadata": {},
   "outputs": [
    {
     "name": "stdout",
     "output_type": "stream",
     "text": [
      "oi planeta \"maravilho\"!\n"
     ]
    }
   ],
   "source": [
    "# Strings possuem alguns métodos próprios em Python\n",
    "novo_d = d.replace('mundo','planeta')\n",
    "print(novo_d)"
   ]
  },
  {
   "cell_type": "code",
   "execution_count": 18,
   "id": "c65ef6a5",
   "metadata": {},
   "outputs": [
    {
     "data": {
      "text/plain": [
       "'oi mundo'"
      ]
     },
     "execution_count": 18,
     "metadata": {},
     "output_type": "execute_result"
    }
   ],
   "source": [
    "caixa_alta = \"OI MUNDO\"\n",
    "caixa_alta.lower()"
   ]
  },
  {
   "cell_type": "code",
   "execution_count": 19,
   "id": "826112dc",
   "metadata": {},
   "outputs": [
    {
     "data": {
      "text/plain": [
       "'TESTANDO CAIXASS & 123 %'"
      ]
     },
     "execution_count": 19,
     "metadata": {},
     "output_type": "execute_result"
    }
   ],
   "source": [
    "caixa_baixa = 'testando CAIXAss & 123 %'\n",
    "caixa_baixa.upper()"
   ]
  },
  {
   "cell_type": "code",
   "execution_count": 20,
   "id": "dcdb5b8a",
   "metadata": {},
   "outputs": [],
   "source": [
    "e = 'tudo certo?'"
   ]
  },
  {
   "cell_type": "code",
   "execution_count": 21,
   "id": "c3b7d61e",
   "metadata": {},
   "outputs": [],
   "source": [
    "# Concatenação é uma operação de juntar strings ou listas\n",
    "f = d + ' ' + e"
   ]
  },
  {
   "cell_type": "code",
   "execution_count": 22,
   "id": "5f98777e",
   "metadata": {},
   "outputs": [
    {
     "name": "stdout",
     "output_type": "stream",
     "text": [
      "oi mundo \"maravilho\"! tudo certo?\n"
     ]
    }
   ],
   "source": [
    "print(f)"
   ]
  },
  {
   "cell_type": "code",
   "execution_count": 23,
   "id": "76c0c471",
   "metadata": {},
   "outputs": [
    {
     "ename": "TypeError",
     "evalue": "can only concatenate str (not \"int\") to str",
     "output_type": "error",
     "traceback": [
      "\u001b[1;31m---------------------------------------------------------------------------\u001b[0m",
      "\u001b[1;31mTypeError\u001b[0m                                 Traceback (most recent call last)",
      "Cell \u001b[1;32mIn[23], line 2\u001b[0m\n\u001b[0;32m      1\u001b[0m \u001b[38;5;66;03m# Mas as variáveis precisam ser todas strings!\u001b[39;00m\n\u001b[1;32m----> 2\u001b[0m g \u001b[38;5;241m=\u001b[39m d\u001b[38;5;241m+\u001b[39m\u001b[38;5;124m'\u001b[39m\u001b[38;5;124m \u001b[39m\u001b[38;5;124m'\u001b[39m\u001b[38;5;241m+\u001b[39me\u001b[38;5;241m+\u001b[39mc\n",
      "\u001b[1;31mTypeError\u001b[0m: can only concatenate str (not \"int\") to str"
     ]
    }
   ],
   "source": [
    "# Mas as variáveis precisam ser todas strings!\n",
    "g = d+' '+e+c"
   ]
  },
  {
   "cell_type": "code",
   "execution_count": 24,
   "id": "abf57b98",
   "metadata": {},
   "outputs": [],
   "source": [
    "g = d +' '+ e +' resultado da c é: '+ str(c)"
   ]
  },
  {
   "cell_type": "code",
   "execution_count": 25,
   "id": "a82e56ea",
   "metadata": {},
   "outputs": [
    {
     "name": "stdout",
     "output_type": "stream",
     "text": [
      "oi mundo \"maravilho\"! tudo certo? resultado da c é: -19\n"
     ]
    }
   ],
   "source": [
    "print(g)"
   ]
  },
  {
   "cell_type": "code",
   "execution_count": 26,
   "id": "6cf94636",
   "metadata": {},
   "outputs": [],
   "source": [
    "# f-string é uma forma de definir string que recebe alguma variável sem ter que usar concatenação\n",
    "t = f'o valor salvo na variável c é: {c}'"
   ]
  },
  {
   "cell_type": "code",
   "execution_count": 27,
   "id": "16c5f4c6",
   "metadata": {},
   "outputs": [
    {
     "name": "stdout",
     "output_type": "stream",
     "text": [
      "o valor salvo na variável c é: -19\n"
     ]
    }
   ],
   "source": [
    "print(t)"
   ]
  },
  {
   "cell_type": "code",
   "execution_count": 28,
   "id": "9c3afbde",
   "metadata": {},
   "outputs": [],
   "source": [
    "t2 = f'o valor em c é {c} °F. O que é diferente do valor em b que é {b} °C.'"
   ]
  },
  {
   "cell_type": "code",
   "execution_count": 29,
   "id": "21a074ad",
   "metadata": {},
   "outputs": [
    {
     "name": "stdout",
     "output_type": "stream",
     "text": [
      "o valor em c é -19 °F. O que é diferente do valor em b que é 3.14 °C.\n"
     ]
    }
   ],
   "source": [
    "print(t2)"
   ]
  },
  {
   "cell_type": "markdown",
   "id": "66eea794",
   "metadata": {
    "jp-MarkdownHeadingCollapsed": true
   },
   "source": [
    "## Variáveis são dinamicamente tipadas em Python\n",
    "\n",
    "Em Python, as variáveis são dinamicamente tipadas, o que significa que você não precisa declarar explicitamente o tipo de uma variável. Elas podem armazenar valores de diferentes tipos ao longo do tempo, oferecendo flexibilidade, mas exigindo atenção para garantir a consistência dos tipos durante a execução do programa.\n",
    "\n",
    "\n",
    "- **Tipo estático** — Uma verificação de tipo é realizada em **tempo de compilação ou interpretação** e requer declarações de tipo de dados. O código é mais explícito.\n",
    "- **Tipo dinâmico** — Verificações de tipos são realizadas em tempo de **execução**, e assim não requer declarações de tipo de dados.\n"
   ]
  },
  {
   "cell_type": "code",
   "execution_count": 30,
   "id": "2d33dbe5",
   "metadata": {},
   "outputs": [
    {
     "name": "stdout",
     "output_type": "stream",
     "text": [
      "<class 'str'>\n",
      "oi mundo\n",
      "<class 'float'>\n",
      "120.35\n"
     ]
    }
   ],
   "source": [
    "a = 'oi mundo'\n",
    "print(type(a))\n",
    "print(a)\n",
    "\n",
    "a = 120.35\n",
    "print(type(a))\n",
    "print(a)"
   ]
  },
  {
   "cell_type": "markdown",
   "id": "994a6c20",
   "metadata": {
    "jp-MarkdownHeadingCollapsed": true
   },
   "source": [
    "## Anotações de tipo (Type Annotations ou Type Hints)\n",
    "\n",
    "A partir do Python 3.6, você pode usar anotações de tipos para indicar o tipo de uma variável ou retorno de uma função. Embora essas anotações não sejam verificadas em tempo de execução pelo interpretador Python padrão, podem ser verificadas por ferramentas externas, como o <code>mypy</code>, que é um verificador de tipos estáticos para Python.\n"
   ]
  },
  {
   "cell_type": "code",
   "execution_count": 31,
   "id": "9d96bb7c",
   "metadata": {},
   "outputs": [],
   "source": [
    "a : str = 'oi mundo'"
   ]
  },
  {
   "cell_type": "code",
   "execution_count": 32,
   "id": "ddfcf0c4",
   "metadata": {},
   "outputs": [
    {
     "name": "stdout",
     "output_type": "stream",
     "text": [
      "oi mundo\n"
     ]
    }
   ],
   "source": [
    "print(a)"
   ]
  },
  {
   "cell_type": "code",
   "execution_count": 33,
   "id": "a034564a",
   "metadata": {},
   "outputs": [
    {
     "name": "stdout",
     "output_type": "stream",
     "text": [
      "<class 'str'>\n"
     ]
    }
   ],
   "source": [
    "print(type(a))"
   ]
  },
  {
   "cell_type": "code",
   "execution_count": 34,
   "id": "dcb63cf1",
   "metadata": {},
   "outputs": [],
   "source": [
    "b : int = 'tesla' # Mas por ser dinamicamente tipado, a anotação não força, necessáriamente, o tipo!"
   ]
  },
  {
   "cell_type": "code",
   "execution_count": 35,
   "id": "2217278f",
   "metadata": {},
   "outputs": [
    {
     "name": "stdout",
     "output_type": "stream",
     "text": [
      "tesla\n"
     ]
    }
   ],
   "source": [
    "print(b)"
   ]
  },
  {
   "cell_type": "code",
   "execution_count": 36,
   "id": "7b33725f",
   "metadata": {},
   "outputs": [
    {
     "name": "stdout",
     "output_type": "stream",
     "text": [
      "<class 'str'>\n"
     ]
    }
   ],
   "source": [
    "print(type(b))"
   ]
  },
  {
   "cell_type": "code",
   "execution_count": 37,
   "id": "45a8cb45",
   "metadata": {},
   "outputs": [
    {
     "name": "stdout",
     "output_type": "stream",
     "text": [
      "5\n"
     ]
    }
   ],
   "source": [
    "a : int = 10\n",
    "b : int = 5\n",
    "c : int = a-b\n",
    "    \n",
    "print(c)"
   ]
  }
 ],
 "metadata": {
  "kernelspec": {
   "display_name": "Python 3 (ipykernel)",
   "language": "python",
   "name": "python3"
  },
  "language_info": {
   "codemirror_mode": {
    "name": "ipython",
    "version": 3
   },
   "file_extension": ".py",
   "mimetype": "text/x-python",
   "name": "python",
   "nbconvert_exporter": "python",
   "pygments_lexer": "ipython3",
   "version": "3.12.4"
  }
 },
 "nbformat": 4,
 "nbformat_minor": 5
}
