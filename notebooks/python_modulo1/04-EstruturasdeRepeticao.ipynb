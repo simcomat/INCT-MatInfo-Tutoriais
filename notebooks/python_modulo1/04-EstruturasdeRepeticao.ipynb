{
 "cells": [
  {
   "cell_type": "markdown",
   "id": "134f1b15-f2e0-45a1-8c9c-1738d52c66be",
   "metadata": {},
   "source": [
    "# 4 - Estruturas de Repetição\n",
    "\n",
    "Em Python, as estruturas de repetição são utilizadas para executar um bloco de código várias vezes, dependendo de uma condição específica. As principais estruturas de repetição em Python são o <code>for</code> e o <code>while</code>."
   ]
  },
  {
   "cell_type": "markdown",
   "id": "c1889343-e8d1-4506-9ccf-d86930aeb1da",
   "metadata": {
    "jp-MarkdownHeadingCollapsed": true
   },
   "source": [
    "## Comando <code>for</code>\n",
    "\n",
    "O <code>for</code> é usado para iterar sobre sequências como listas, tuplas, strings ou intervalos de números. "
   ]
  },
  {
   "cell_type": "code",
   "execution_count": 1,
   "id": "08a94226-0dc8-4e54-bbe4-70c9ede46c78",
   "metadata": {},
   "outputs": [
    {
     "name": "stdout",
     "output_type": "stream",
     "text": [
      "0\n",
      "1\n",
      "2\n",
      "3\n",
      "4\n"
     ]
    }
   ],
   "source": [
    "for i in range(5):\n",
    "    print(i)"
   ]
  },
  {
   "cell_type": "code",
   "execution_count": 2,
   "id": "fc8542be-a9cd-4c47-b85f-48dd8a14da6b",
   "metadata": {},
   "outputs": [
    {
     "name": "stdout",
     "output_type": "stream",
     "text": [
      "a\n",
      "b\n",
      "c\n"
     ]
    }
   ],
   "source": [
    "la = ['a', 'b', 'c']\n",
    "\n",
    "for elemento in la:\n",
    "    print(elemento)"
   ]
  },
  {
   "cell_type": "code",
   "execution_count": 3,
   "id": "41134821-6657-4b46-a940-26af14e5c1af",
   "metadata": {},
   "outputs": [
    {
     "name": "stdout",
     "output_type": "stream",
     "text": [
      "30\n"
     ]
    }
   ],
   "source": [
    "# O somatório de uma lista\n",
    "lb = [10,10,10]\n",
    "\n",
    "soma = 0\n",
    "for elemento in lb:\n",
    "    soma = soma + elemento\n",
    "\n",
    "print(soma)"
   ]
  },
  {
   "cell_type": "code",
   "execution_count": 4,
   "id": "373f1ece-d378-4403-8bfc-7d72593928f0",
   "metadata": {},
   "outputs": [
    {
     "data": {
      "text/plain": [
       "30"
      ]
     },
     "execution_count": 4,
     "metadata": {},
     "output_type": "execute_result"
    }
   ],
   "source": [
    "# OBS: existe uma função pronta em Python para fazer somatórios\n",
    "sum(lb)"
   ]
  },
  {
   "cell_type": "code",
   "execution_count": 5,
   "id": "a0114cff-ab14-4813-bccb-2a3e78f4dfb0",
   "metadata": {},
   "outputs": [
    {
     "name": "stdout",
     "output_type": "stream",
     "text": [
      "30\n"
     ]
    }
   ],
   "source": [
    "# Podemos iterar usando apenas a posicao da lista\n",
    "soma = 0\n",
    "for i in range(0,len(lb)):\n",
    "    soma = soma + lb[i]\n",
    "\n",
    "print(soma)"
   ]
  },
  {
   "cell_type": "code",
   "execution_count": 6,
   "id": "d32ce174-bf27-4869-8f19-253a3740e6f7",
   "metadata": {},
   "outputs": [
    {
     "name": "stdout",
     "output_type": "stream",
     "text": [
      "0 10\n",
      "1 10\n",
      "2 10\n"
     ]
    }
   ],
   "source": [
    "# enumerate é um comando em Python que permite iterar sobre a lista via elemento e via indice do elemento\n",
    "for i, elemento in enumerate(lb):\n",
    "    print(i, elemento)"
   ]
  },
  {
   "cell_type": "code",
   "execution_count": 7,
   "id": "ff6af2c6-7caf-4068-be0d-3486a8e5d4fb",
   "metadata": {},
   "outputs": [
    {
     "name": "stdout",
     "output_type": "stream",
     "text": [
      "1\n",
      "2\n",
      "3\n",
      "4\n",
      "5\n",
      "6\n",
      "7\n",
      "8\n",
      "9\n"
     ]
    }
   ],
   "source": [
    "matrix = [[1,2,3],\n",
    "          [4,5,6],\n",
    "          [7,8,9]]\n",
    "\n",
    "for i in range(0,3):\n",
    "    for j in range(0,3):\n",
    "        print(matrix[i][j])"
   ]
  },
  {
   "cell_type": "code",
   "execution_count": 8,
   "id": "cf09faa3-a7d1-4939-bf02-19114ba15df6",
   "metadata": {},
   "outputs": [
    {
     "name": "stdout",
     "output_type": "stream",
     "text": [
      "[[1, 4, 7], [2, 5, 8], [3, 6, 9]]\n"
     ]
    }
   ],
   "source": [
    "# Gerando a matriz transposta\n",
    "transpose = []\n",
    "for i in range(0, 3):\n",
    "    row = []\n",
    "    for j in range(0, 3):\n",
    "        row.append(matrix[j][i])\n",
    "    transpose.append(row)\n",
    "\n",
    "print(transpose)"
   ]
  },
  {
   "cell_type": "code",
   "execution_count": 9,
   "id": "3e61b5d2-8e61-4454-abb9-4adaa28c6f33",
   "metadata": {},
   "outputs": [
    {
     "name": "stdout",
     "output_type": "stream",
     "text": [
      "Pares:  [2, 4, 6, 8, 100, 120, 28]\n",
      "Ímpares:  [1, 3, 5, 7, 233, 47, 91, 73]\n"
     ]
    }
   ],
   "source": [
    "# Separando pares e ímpares\n",
    "lista_numero = [1,2,3,4,5,6,7,8,100,120,233,47,28,91,73]\n",
    "lista_pares = []\n",
    "lista_impares = []\n",
    "\n",
    "for elemento in lista_numero:\n",
    "    if elemento%2 == 0:\n",
    "        lista_pares.append(elemento)\n",
    "    else:\n",
    "        lista_impares.append(elemento)\n",
    "\n",
    "print(\"Pares: \", lista_pares) \n",
    "print(\"Ímpares: \", lista_impares) "
   ]
  },
  {
   "cell_type": "markdown",
   "id": "eda29c4c-49e1-4feb-ad39-b0fbcf9d6425",
   "metadata": {},
   "source": [
    "### Compressão de Lista \n",
    "\n",
    "A compressão de lista (ou list comprehension) em Python é uma maneira concisa e eficiente de criar listas. Ao invés de usar loops <code>for</code> tradicionais, a compressão de lista permite criar uma lista em uma única linha de código, aplicando uma expressão a cada item de uma sequência ou outra lista."
   ]
  },
  {
   "cell_type": "code",
   "execution_count": 10,
   "id": "fcf841bd-8d8c-409e-81df-8f4a4c7c86f6",
   "metadata": {},
   "outputs": [
    {
     "name": "stdout",
     "output_type": "stream",
     "text": [
      "[1, 4, 9, 16, 25, 36, 49, 64, 81]\n"
     ]
    }
   ],
   "source": [
    "squares = [xi**2 for xi in range(1,10)]\n",
    "print(squares)"
   ]
  },
  {
   "cell_type": "code",
   "execution_count": 11,
   "id": "72d0b538-d344-4a4d-9338-7d3cfccdd94d",
   "metadata": {},
   "outputs": [
    {
     "name": "stdout",
     "output_type": "stream",
     "text": [
      "[2, 4, 6, 8, 10, 12, 14, 16, 18]\n"
     ]
    }
   ],
   "source": [
    "# Podemos usar estrutura condicional dentro da compressao de lista\n",
    "\n",
    "pares = [xi for xi in range(1,20) if xi%2==0] \n",
    "print(pares)"
   ]
  },
  {
   "cell_type": "code",
   "execution_count": 12,
   "id": "2ae82900-1296-4899-9b48-729e5a12c7a5",
   "metadata": {},
   "outputs": [
    {
     "name": "stdout",
     "output_type": "stream",
     "text": [
      "[2, 4, 6, 8, 100, 120, 28]\n"
     ]
    }
   ],
   "source": [
    "# Retornando os numeros nas posições pares\n",
    "lista_numero = [1,2,3,4,5,6,7,8,100,120,233,47,28,91,73]\n",
    "pos_pares = [lista_numero[i] for i, xi in enumerate(lista_numero) if xi%2==0] \n",
    "print(pos_pares)"
   ]
  },
  {
   "cell_type": "markdown",
   "id": "bc755dec-5d67-4465-9295-39a27fd2f8f2",
   "metadata": {
    "jp-MarkdownHeadingCollapsed": true
   },
   "source": [
    "## Comando <code>while</code>\n",
    "\n",
    "O comando <code>while</code> em Python é uma estrutura de repetição que executa um bloco de código enquanto uma condição for verdadeira."
   ]
  },
  {
   "cell_type": "code",
   "execution_count": 13,
   "id": "b921f2a6-864b-4f1e-bd41-d8338393011a",
   "metadata": {},
   "outputs": [
    {
     "name": "stdout",
     "output_type": "stream",
     "text": [
      "1\n",
      "2\n",
      "3\n",
      "4\n",
      "5\n"
     ]
    }
   ],
   "source": [
    "contador = 1\n",
    "\n",
    "while contador <= 5:\n",
    "    print(contador)\n",
    "    contador += 1  # Incrementa o contador a cada iteração"
   ]
  },
  {
   "cell_type": "code",
   "execution_count": 14,
   "id": "4833ce8b-4ff3-4954-a612-bf4f2237bef8",
   "metadata": {},
   "outputs": [
    {
     "name": "stdin",
     "output_type": "stream",
     "text": [
      "Digite 'sair' para sair do loop:  oi\n"
     ]
    },
    {
     "name": "stdout",
     "output_type": "stream",
     "text": [
      "Você digitou:  oi\n"
     ]
    },
    {
     "name": "stdin",
     "output_type": "stream",
     "text": [
      "Digite 'sair' para sair do loop:  sair\n"
     ]
    }
   ],
   "source": [
    "# Laço infinito esperando o usuario digitar \n",
    "while True:\n",
    "    entrada_usuario = input(\"Digite 'sair' para sair do loop: \")\n",
    "    if entrada_usuario == \"sair\":\n",
    "        break  # Interrompe o loop\n",
    "    else:\n",
    "        print(\"Você digitou: \",entrada_usuario)"
   ]
  },
  {
   "cell_type": "markdown",
   "id": "2d9bd8c1-648b-49e5-93b2-37f5e086f2e6",
   "metadata": {},
   "source": [
    "### Série de Taylor\n",
    "\n",
    "$e^x=\\sum_{n=0}^{\\infty}\\frac{x^n}{n!}$\n",
    "\n",
    "Não podemos numericamente somar até o infinito, mas podemos calcular termos até que um critério de convergência seja atigindo:"
   ]
  },
  {
   "cell_type": "code",
   "execution_count": 15,
   "id": "4ffb4b97-adf5-44eb-a42f-bb68b5582dfa",
   "metadata": {},
   "outputs": [
    {
     "name": "stdout",
     "output_type": "stream",
     "text": [
      "Aproximação de e^1: 2.7182818011463845\n"
     ]
    }
   ],
   "source": [
    "x = 1               # O valor de x para o qual queremos calcular e^x\n",
    "erro_maximo = 1e-6  # A precisão desejada (erro máximo para parar a soma)\n",
    "resultado = 1.0     # O primeiro termo da série é 1 (x^0 / 0!)\n",
    "termo_atual = 1.0   # O termo atual começa com x^0 / 0!\n",
    "n = 1               # A partir de n=1, começamos a calcular os próximos termos\n",
    "\n",
    "# Laço while para somar os termos da série até a convergência\n",
    "while abs(termo_atual) > erro_maximo:\n",
    "    termo_atual = termo_atual * x / n      # Calcula o próximo termo (x^n / n!)\n",
    "    resultado = resultado + termo_atual    # Adiciona o termo atual da série ao resultado da soma\n",
    "    n += 1                                 # Incrementa n para o próximo termo\n",
    "    #print(termo_atual)\n",
    "\n",
    "print(f\"Aproximação de e^{x}: {resultado}\")"
   ]
  }
 ],
 "metadata": {
  "kernelspec": {
   "display_name": "Python 3 (ipykernel)",
   "language": "python",
   "name": "python3"
  },
  "language_info": {
   "codemirror_mode": {
    "name": "ipython",
    "version": 3
   },
   "file_extension": ".py",
   "mimetype": "text/x-python",
   "name": "python",
   "nbconvert_exporter": "python",
   "pygments_lexer": "ipython3",
   "version": "3.12.4"
  }
 },
 "nbformat": 4,
 "nbformat_minor": 5
}
