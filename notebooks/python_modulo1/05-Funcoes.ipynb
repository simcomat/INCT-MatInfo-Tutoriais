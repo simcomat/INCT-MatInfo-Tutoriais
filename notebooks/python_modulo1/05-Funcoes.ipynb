{
 "cells": [
  {
   "cell_type": "markdown",
   "id": "134f1b15-f2e0-45a1-8c9c-1738d52c66be",
   "metadata": {},
   "source": [
    "# 5 - Funções\n",
    "\n",
    "Em Python, uma função é um bloco de código que é projetado para realizar uma tarefa específica. Funções permitem que você escreva um código que pode ser reutilizado em diferentes partes de um programa, o que ajuda a tornar o código mais organizado, modular e fácil de manter."
   ]
  },
  {
   "cell_type": "markdown",
   "id": "bc755dec-5d67-4465-9295-39a27fd2f8f2",
   "metadata": {
    "jp-MarkdownHeadingCollapsed": true
   },
   "source": [
    "## Comando <code>def</code>\n",
    "\n",
    "Uma função em Python é definida com a keyword <code>def</code>, seguida pelo nome da função e um parêntese que pode conter parâmetros (entradas da função). O corpo da função vem depois, indentado, e geralmente contém o código que realiza a tarefa desejada. A função pode retornar um valor com a keyword <code>return</code>."
   ]
  },
  {
   "cell_type": "code",
   "execution_count": 13,
   "id": "b921f2a6-864b-4f1e-bd41-d8338393011a",
   "metadata": {},
   "outputs": [],
   "source": [
    "def media_aritmetica(x):\n",
    "    N = len(x)\n",
    "    soma = 0\n",
    "    for xi in x:\n",
    "        soma = soma+xi\n",
    "    media = soma/N\n",
    "    return media   "
   ]
  },
  {
   "cell_type": "code",
   "execution_count": 14,
   "id": "171a4a3f-a5b6-4ad8-a3d3-2fac79792e44",
   "metadata": {},
   "outputs": [
    {
     "name": "stdout",
     "output_type": "stream",
     "text": [
      "2.5\n"
     ]
    }
   ],
   "source": [
    "lista_numeros = [1,2,2,5,2,3,1,4]\n",
    "\n",
    "media = media_aritmetica(lista_numeros)\n",
    "\n",
    "print(media)"
   ]
  },
  {
   "cell_type": "code",
   "execution_count": 15,
   "id": "fb89e543-04a3-4d07-bab3-2f0d882307c4",
   "metadata": {},
   "outputs": [],
   "source": [
    "# Uma função pode chamar outra função\n",
    "def devio_padrao_amostral(x):\n",
    "    N = len(x)\n",
    "    soma = 0\n",
    "    media = media_aritmetica(x)\n",
    "    for xi in x:\n",
    "        soma = soma+(xi-media)**2\n",
    "    desvio = (soma/(N-1))**0.5\n",
    "    return(desvio)"
   ]
  },
  {
   "cell_type": "code",
   "execution_count": 16,
   "id": "c8855574-f67e-4772-8506-bd26c1c19ae0",
   "metadata": {},
   "outputs": [
    {
     "name": "stdout",
     "output_type": "stream",
     "text": [
      "1.4142135623730951\n"
     ]
    }
   ],
   "source": [
    "desvio = devio_padrao_amostral(lista_numeros)\n",
    "\n",
    "print(desvio)"
   ]
  },
  {
   "cell_type": "code",
   "execution_count": 17,
   "id": "e34e6169-be51-4d6a-9238-be3b18892fe0",
   "metadata": {},
   "outputs": [
    {
     "name": "stdout",
     "output_type": "stream",
     "text": [
      "Lista original: [3, 1, 7, 4]\n",
      "Lista modificada: [1, 7, 4, 10]\n",
      "Lista original: [1, 7, 4, 10]\n"
     ]
    }
   ],
   "source": [
    "# Cuidado com manipulacao de objetos pela função\n",
    "\n",
    "def manipular_lista(lista):\n",
    "    # Adiciona um número ao final da lista\n",
    "    lista.append(10)\n",
    "    \n",
    "    # Remove o primeiro elemento da lista\n",
    "    if len(lista) > 0:\n",
    "        lista.pop(0)\n",
    "        \n",
    "    return lista\n",
    "\n",
    "\n",
    "minha_lista = [3, 1, 7, 4]\n",
    "print(\"Lista original:\", minha_lista)\n",
    "\n",
    "nova_lista = manipular_lista(minha_lista)\n",
    "print(\"Lista modificada:\", nova_lista)\n",
    "print(\"Lista original:\", minha_lista)\n",
    "\n",
    "# Observe que a lista original foi modificada!"
   ]
  },
  {
   "cell_type": "code",
   "execution_count": 18,
   "id": "d4917dd3-2889-40f5-97ca-841d75e8f094",
   "metadata": {},
   "outputs": [
    {
     "name": "stdout",
     "output_type": "stream",
     "text": [
      "Lista original: [3, 1, 7, 4]\n",
      "Lista modificada: [1, 7, 4, 10]\n",
      "Lista original: [3, 1, 7, 4]\n"
     ]
    }
   ],
   "source": [
    "minha_lista = [3, 1, 7, 4]\n",
    "print(\"Lista original:\", minha_lista)\n",
    "\n",
    "nova_lista = manipular_lista(minha_lista.copy()) # precisamos passar a lista como uma copia da original e não como um referencia de posicao da memoria\n",
    "print(\"Lista modificada:\", nova_lista)\n",
    "print(\"Lista original:\", minha_lista)"
   ]
  },
  {
   "cell_type": "markdown",
   "id": "cc77fb69-a129-4399-9b2d-740a17160027",
   "metadata": {},
   "source": [
    "### Função Lambda\n",
    "\n",
    "Uma função <code>lambda</code> em Python é uma função anônima (sem nome) que pode ter qualquer número de parâmetros, mas apenas uma expressão.\n",
    "\n",
    "<code>lambda argumentos: expressão</code>"
   ]
  },
  {
   "cell_type": "code",
   "execution_count": 19,
   "id": "7fea1262-d43d-41ba-a33a-ddd6ccf076d6",
   "metadata": {},
   "outputs": [
    {
     "name": "stdout",
     "output_type": "stream",
     "text": [
      "8\n"
     ]
    }
   ],
   "source": [
    "soma = lambda a, b: a + b\n",
    "print(soma(3, 5))"
   ]
  },
  {
   "cell_type": "code",
   "execution_count": 20,
   "id": "9788a032-8eaa-4be6-8952-3fae1725cd4f",
   "metadata": {},
   "outputs": [
    {
     "name": "stdout",
     "output_type": "stream",
     "text": [
      "[(5, 0), (3, 1), (1, 2)]\n"
     ]
    }
   ],
   "source": [
    "lista = [(1, 2), (3, 1), (5, 0)]\n",
    "\n",
    "lista_ordenada = sorted(lista, key=lambda x: x[1])\n",
    "\n",
    "print(lista_ordenada) "
   ]
  },
  {
   "cell_type": "markdown",
   "id": "f46090d7-b314-4713-b8c1-5a95822fd3eb",
   "metadata": {},
   "source": [
    "### Função Map\n",
    "\n",
    "A função <code>map()</code> em Python aplica uma função a cada item de um iterável (como uma lista, tupla, etc.) e retorna um novo iterável (geralmente um objeto <code>map</code>) contendo os resultados."
   ]
  },
  {
   "cell_type": "code",
   "execution_count": 21,
   "id": "a8126fbb-e218-4981-9005-c5cc3fb2ae75",
   "metadata": {},
   "outputs": [
    {
     "name": "stdout",
     "output_type": "stream",
     "text": [
      "<map object at 0x000001B5CD430C70>\n",
      "[2, 4, 6, 8, 10]\n"
     ]
    }
   ],
   "source": [
    "def multiplicar_por_2(x):\n",
    "    return x * 2\n",
    "\n",
    "numeros = [1, 2, 3, 4, 5]\n",
    "\n",
    "# Aplicando a função 'multiplicar_por_2' a cada item da lista\n",
    "resultado = map(multiplicar_por_2, numeros)\n",
    "\n",
    "print(resultado)\n",
    "print(list(resultado))"
   ]
  },
  {
   "cell_type": "code",
   "execution_count": 22,
   "id": "1f933797-d9aa-43d0-a8ba-887958f5944e",
   "metadata": {},
   "outputs": [
    {
     "name": "stdout",
     "output_type": "stream",
     "text": [
      "[4, 10, 18]\n"
     ]
    }
   ],
   "source": [
    "lista1 = [1, 2, 3]\n",
    "lista2 = [4, 5, 6]\n",
    "\n",
    "# Multplicando os elementos das duas listas (Produto de Hadamard)\n",
    "resultado = map(lambda x, y: x*y, lista1, lista2)\n",
    "\n",
    "print(list(resultado))"
   ]
  },
  {
   "cell_type": "code",
   "execution_count": 23,
   "id": "a1961a68-8fa7-4b4c-a9d0-e1f8c1f5fb9d",
   "metadata": {},
   "outputs": [
    {
     "name": "stdout",
     "output_type": "stream",
     "text": [
      "32\n"
     ]
    }
   ],
   "source": [
    "# Multplicando os elementos das duas listas e somando o resultado (Produto Escalar)\n",
    "resultado = sum(map(lambda x, y:x*y, lista1, lista2))\n",
    "\n",
    "print(resultado)"
   ]
  },
  {
   "cell_type": "markdown",
   "id": "07abc7ad-56e4-4288-bb71-21ef43cd5cb3",
   "metadata": {},
   "source": [
    "### Função Filter\n",
    "\n",
    "A função <code>filter()</code> em Python é utilizada para filtrar elementos de um iterável (como uma lista, tupla, ou conjunto) com base em uma condição. Ela retorna um iterador contendo os elementos que atendem a essa condição, ou seja, onde a função fornecida retorna <code>True</code>."
   ]
  },
  {
   "cell_type": "code",
   "execution_count": 24,
   "id": "6971264e-8792-4047-8861-a9f0ab191bf8",
   "metadata": {},
   "outputs": [
    {
     "name": "stdout",
     "output_type": "stream",
     "text": [
      "[2, 4, 6, 8]\n"
     ]
    }
   ],
   "source": [
    "# Função que verifica se um número é par\n",
    "def is_par(num):\n",
    "    return num % 2 == 0\n",
    "\n",
    "numeros = [1, 2, 3, 4, 5, 6, 7, 8, 9]\n",
    "pares = filter(is_par, numeros)\n",
    "\n",
    "print(list(pares))"
   ]
  },
  {
   "cell_type": "code",
   "execution_count": 25,
   "id": "80ed3013-8a6d-43f0-bc5b-f95cd62712d4",
   "metadata": {},
   "outputs": [
    {
     "name": "stdout",
     "output_type": "stream",
     "text": [
      "[2, 4, 6, 8]\n"
     ]
    }
   ],
   "source": [
    "# Usando filter com lambda para filtrar os números pares\n",
    "pares = filter(lambda x: x % 2 == 0, numeros)\n",
    "\n",
    "print(list(pares))"
   ]
  },
  {
   "cell_type": "markdown",
   "id": "f4341844-2051-4b7e-a032-1e59f3f073b5",
   "metadata": {
    "jp-MarkdownHeadingCollapsed": true
   },
   "source": [
    "## Recursão\n",
    "\n",
    "Recursão é um conceito de programação em que uma função chama a si mesma para resolver um problema. Isso é útil quando o problema pode ser dividido em subproblemas menores que têm a mesma estrutura que o problema original. Uma função recursiva deve ter uma condição de base, que é o caso que não exige mais chamadas recursivas, para evitar que a função se chame indefinidamente e cause um estouro de pilha (consumir toda a memória RAM disponível)."
   ]
  },
  {
   "cell_type": "code",
   "execution_count": 26,
   "id": "e7eefcef-3164-46e1-b789-ddfabd0638ee",
   "metadata": {},
   "outputs": [],
   "source": [
    "def fatorial(n):\n",
    "    # Condição de base\n",
    "    if n == 0:\n",
    "        return 1\n",
    "    else:\n",
    "        # Chamada recursiva (chama a mesma função)\n",
    "        return n * fatorial(n - 1)"
   ]
  },
  {
   "cell_type": "code",
   "execution_count": 27,
   "id": "36af6131-d144-43a1-b8b2-eb57905c6285",
   "metadata": {},
   "outputs": [
    {
     "name": "stdout",
     "output_type": "stream",
     "text": [
      "120\n"
     ]
    }
   ],
   "source": [
    "print(fatorial(5)) "
   ]
  },
  {
   "cell_type": "markdown",
   "id": "eadae17a-018c-4c11-bdbe-9f5e4d0c23c4",
   "metadata": {},
   "source": [
    "#### Sequência de Fibonacci\n",
    "A sequência de Fibonacci é uma sequência de números em que cada número é a soma dos dois números anteriores, começando com 0 e 1:\n",
    "\n",
    "- 𝐹(0)=0\n",
    "- 𝐹(1)=1\n",
    "- 𝐹(𝑛)=𝐹(𝑛−1)+𝐹(𝑛−2), para 𝑛>1\n",
    "\n",
    "Ou seja, os primeiros números da sequência são: 0, 1, 1, 2, 3, 5, 8, 13, 21, 34..."
   ]
  },
  {
   "cell_type": "code",
   "execution_count": 28,
   "id": "cfbbf3c2-dad8-474d-9083-801adc8f91ab",
   "metadata": {},
   "outputs": [],
   "source": [
    "def fibonacci(n):\n",
    "    # Condições de base\n",
    "    if n == 0:\n",
    "        return 0\n",
    "    elif n == 1:\n",
    "        return 1\n",
    "    else:\n",
    "        # Chamada recursiva\n",
    "        return fibonacci(n - 1) + fibonacci(n - 2)"
   ]
  },
  {
   "cell_type": "code",
   "execution_count": 29,
   "id": "7126bd6c-cbb9-4894-bdb8-cf2c22bf4c02",
   "metadata": {},
   "outputs": [
    {
     "name": "stdout",
     "output_type": "stream",
     "text": [
      "21\n"
     ]
    }
   ],
   "source": [
    "print(fibonacci(8)) "
   ]
  }
 ],
 "metadata": {
  "kernelspec": {
   "display_name": "Python 3 (ipykernel)",
   "language": "python",
   "name": "python3"
  },
  "language_info": {
   "codemirror_mode": {
    "name": "ipython",
    "version": 3
   },
   "file_extension": ".py",
   "mimetype": "text/x-python",
   "name": "python",
   "nbconvert_exporter": "python",
   "pygments_lexer": "ipython3",
   "version": "3.12.4"
  }
 },
 "nbformat": 4,
 "nbformat_minor": 5
}
