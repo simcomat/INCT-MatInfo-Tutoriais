{
 "cells": [
  {
   "cell_type": "markdown",
   "id": "3fe5be57",
   "metadata": {},
   "source": [
    "# 2 - Variáveis Compostas em Python\n",
    "\n",
    "Em Python, as variáveis compostas incluem:\n",
    "\n",
    "- **Listas (list):** Uma coleção ordenada de elementos, acessíveis por índices.\n",
    "- **Tuplas (tuple):** Sequências ordenadas e imutáveis de elementos.\n",
    "- **Conjuntos (set):** Coleções não ordenadas e sem elementos duplicados.\n",
    "- **Dicionários (dict):** Coleções não ordenadas de pares chave-valor."
   ]
  },
  {
   "cell_type": "markdown",
   "id": "85ea4d10",
   "metadata": {
    "jp-MarkdownHeadingCollapsed": true
   },
   "source": [
    "## Listas"
   ]
  },
  {
   "cell_type": "code",
   "execution_count": 1,
   "id": "93ab18bc",
   "metadata": {},
   "outputs": [],
   "source": [
    "a = [1,2,3,4]"
   ]
  },
  {
   "cell_type": "code",
   "execution_count": 2,
   "id": "290ff87d",
   "metadata": {},
   "outputs": [
    {
     "name": "stdout",
     "output_type": "stream",
     "text": [
      "[1, 2, 3, 4]\n"
     ]
    }
   ],
   "source": [
    "print(a)"
   ]
  },
  {
   "cell_type": "code",
   "execution_count": 3,
   "id": "50a66857",
   "metadata": {},
   "outputs": [
    {
     "name": "stdout",
     "output_type": "stream",
     "text": [
      "<class 'list'>\n"
     ]
    }
   ],
   "source": [
    "print(type(a))"
   ]
  },
  {
   "cell_type": "code",
   "execution_count": 4,
   "id": "f2f44ecb",
   "metadata": {},
   "outputs": [
    {
     "data": {
      "text/plain": [
       "3"
      ]
     },
     "execution_count": 4,
     "metadata": {},
     "output_type": "execute_result"
    }
   ],
   "source": [
    "a[2]"
   ]
  },
  {
   "cell_type": "code",
   "execution_count": 5,
   "id": "2bbd7752",
   "metadata": {},
   "outputs": [],
   "source": [
    "# Atribuindo um valor para uma posição da lista\n",
    "a[0]=-52"
   ]
  },
  {
   "cell_type": "code",
   "execution_count": 6,
   "id": "da8fa506",
   "metadata": {},
   "outputs": [
    {
     "data": {
      "text/plain": [
       "-52"
      ]
     },
     "execution_count": 6,
     "metadata": {},
     "output_type": "execute_result"
    }
   ],
   "source": [
    "a[0]"
   ]
  },
  {
   "cell_type": "code",
   "execution_count": 7,
   "id": "2921af99",
   "metadata": {},
   "outputs": [],
   "source": [
    "a[1]=a[0]+16"
   ]
  },
  {
   "cell_type": "code",
   "execution_count": 8,
   "id": "9af7d28a",
   "metadata": {},
   "outputs": [
    {
     "name": "stdout",
     "output_type": "stream",
     "text": [
      "[-52, -36, 3, 4]\n"
     ]
    }
   ],
   "source": [
    "print(a)"
   ]
  },
  {
   "cell_type": "code",
   "execution_count": 9,
   "id": "2e7fd705",
   "metadata": {},
   "outputs": [
    {
     "data": {
      "text/plain": [
       "4"
      ]
     },
     "execution_count": 9,
     "metadata": {},
     "output_type": "execute_result"
    }
   ],
   "source": [
    "# Para saber o tamanho da lista podemos usar o comando len()\n",
    "len(a)"
   ]
  },
  {
   "cell_type": "code",
   "execution_count": 10,
   "id": "235e497b",
   "metadata": {},
   "outputs": [],
   "source": [
    "a.append(12)"
   ]
  },
  {
   "cell_type": "code",
   "execution_count": 11,
   "id": "8e2eecb7",
   "metadata": {},
   "outputs": [
    {
     "name": "stdout",
     "output_type": "stream",
     "text": [
      "[-52, -36, 3, 4, 12]\n"
     ]
    }
   ],
   "source": [
    "print(a)"
   ]
  },
  {
   "cell_type": "code",
   "execution_count": 12,
   "id": "973f9e74",
   "metadata": {},
   "outputs": [],
   "source": [
    "a.append(3)"
   ]
  },
  {
   "cell_type": "code",
   "execution_count": 13,
   "id": "7172e8e8",
   "metadata": {},
   "outputs": [
    {
     "name": "stdout",
     "output_type": "stream",
     "text": [
      "[-52, -36, 3, 4, 12, 3]\n"
     ]
    }
   ],
   "source": [
    "print(a)"
   ]
  },
  {
   "cell_type": "code",
   "execution_count": 14,
   "id": "ff5b75f5",
   "metadata": {},
   "outputs": [
    {
     "data": {
      "text/plain": [
       "3"
      ]
     },
     "execution_count": 14,
     "metadata": {},
     "output_type": "execute_result"
    }
   ],
   "source": [
    "a[-1]"
   ]
  },
  {
   "cell_type": "code",
   "execution_count": 15,
   "id": "143cd0dc",
   "metadata": {},
   "outputs": [
    {
     "data": {
      "text/plain": [
       "3"
      ]
     },
     "execution_count": 15,
     "metadata": {},
     "output_type": "execute_result"
    }
   ],
   "source": [
    "a[-4]"
   ]
  },
  {
   "cell_type": "code",
   "execution_count": 16,
   "id": "999b9a78",
   "metadata": {},
   "outputs": [],
   "source": [
    "a.remove(3)"
   ]
  },
  {
   "cell_type": "code",
   "execution_count": 17,
   "id": "6c23e990",
   "metadata": {},
   "outputs": [
    {
     "name": "stdout",
     "output_type": "stream",
     "text": [
      "[-52, -36, 4, 12, 3]\n"
     ]
    }
   ],
   "source": [
    "print(a)"
   ]
  },
  {
   "cell_type": "code",
   "execution_count": 18,
   "id": "cf386ba2",
   "metadata": {},
   "outputs": [],
   "source": [
    "a.remove(3)"
   ]
  },
  {
   "cell_type": "code",
   "execution_count": 19,
   "id": "b3e93755",
   "metadata": {},
   "outputs": [
    {
     "name": "stdout",
     "output_type": "stream",
     "text": [
      "[-52, -36, 4, 12]\n"
     ]
    }
   ],
   "source": [
    "print(a)"
   ]
  },
  {
   "cell_type": "code",
   "execution_count": 20,
   "id": "4731874a",
   "metadata": {},
   "outputs": [
    {
     "data": {
      "text/plain": [
       "3"
      ]
     },
     "execution_count": 20,
     "metadata": {},
     "output_type": "execute_result"
    }
   ],
   "source": [
    "a.index(12)"
   ]
  },
  {
   "cell_type": "code",
   "execution_count": 21,
   "id": "14f2ffe9",
   "metadata": {},
   "outputs": [],
   "source": [
    "a.append(5)"
   ]
  },
  {
   "cell_type": "code",
   "execution_count": 22,
   "id": "719cc58e",
   "metadata": {},
   "outputs": [
    {
     "name": "stdout",
     "output_type": "stream",
     "text": [
      "[-52, -36, 4, 12, 5]\n"
     ]
    }
   ],
   "source": [
    "print(a)"
   ]
  },
  {
   "cell_type": "code",
   "execution_count": 23,
   "id": "2b843440",
   "metadata": {},
   "outputs": [
    {
     "name": "stdout",
     "output_type": "stream",
     "text": [
      "[-52, -36, 4, 5, 12]\n"
     ]
    }
   ],
   "source": [
    "# Para ordenar uma lista podemos usar o comando sort\n",
    "a.sort()\n",
    "print(a)"
   ]
  },
  {
   "cell_type": "code",
   "execution_count": 24,
   "id": "9df0ed94",
   "metadata": {},
   "outputs": [
    {
     "name": "stdout",
     "output_type": "stream",
     "text": [
      "[12, 5, 4, -36, -52]\n"
     ]
    }
   ],
   "source": [
    "# E na ordem inversa\n",
    "a.sort(reverse=True)\n",
    "print(a)"
   ]
  },
  {
   "cell_type": "code",
   "execution_count": 25,
   "id": "73ffe76c",
   "metadata": {},
   "outputs": [
    {
     "name": "stdout",
     "output_type": "stream",
     "text": [
      "[123, 333, 444, 3456, 1005]\n",
      "3 2 5\n"
     ]
    }
   ],
   "source": [
    "# Podemos concatenar duas listas\n",
    "\n",
    "lista_a = [123,333,444]\n",
    "lista_b = [3456, 1005]\n",
    "\n",
    "lista_c = lista_a+lista_b\n",
    "print(lista_c)\n",
    "print(len(lista_a),len(lista_b),len(lista_c))"
   ]
  },
  {
   "cell_type": "code",
   "execution_count": 26,
   "id": "31a82394",
   "metadata": {},
   "outputs": [],
   "source": [
    "# Também é possivel fazer lista de listas (matrizes)\n",
    "b = [[1,2,3,4], [2,2,2,2], [10,-1,-2,5]]"
   ]
  },
  {
   "cell_type": "code",
   "execution_count": 27,
   "id": "00b0a3d7",
   "metadata": {},
   "outputs": [
    {
     "name": "stdout",
     "output_type": "stream",
     "text": [
      "[[1, 2, 3, 4], [2, 2, 2, 2], [10, -1, -2, 5]]\n",
      "<class 'list'>\n"
     ]
    }
   ],
   "source": [
    "print(b)\n",
    "print(type(b))"
   ]
  },
  {
   "cell_type": "code",
   "execution_count": 28,
   "id": "42cc0a67",
   "metadata": {},
   "outputs": [
    {
     "data": {
      "text/plain": [
       "list"
      ]
     },
     "execution_count": 28,
     "metadata": {},
     "output_type": "execute_result"
    }
   ],
   "source": [
    "type(b[0])"
   ]
  },
  {
   "cell_type": "code",
   "execution_count": 29,
   "id": "a1db3e59",
   "metadata": {},
   "outputs": [
    {
     "data": {
      "text/plain": [
       "[10, -1, -2, 5]"
      ]
     },
     "execution_count": 29,
     "metadata": {},
     "output_type": "execute_result"
    }
   ],
   "source": [
    "b[-1]"
   ]
  },
  {
   "cell_type": "code",
   "execution_count": 30,
   "id": "4abcbb13",
   "metadata": {},
   "outputs": [
    {
     "data": {
      "text/plain": [
       "3"
      ]
     },
     "execution_count": 30,
     "metadata": {},
     "output_type": "execute_result"
    }
   ],
   "source": [
    "len(b)"
   ]
  },
  {
   "cell_type": "code",
   "execution_count": 31,
   "id": "1059766d",
   "metadata": {},
   "outputs": [
    {
     "data": {
      "text/plain": [
       "4"
      ]
     },
     "execution_count": 31,
     "metadata": {},
     "output_type": "execute_result"
    }
   ],
   "source": [
    "len(b[0])"
   ]
  },
  {
   "cell_type": "code",
   "execution_count": 32,
   "id": "52701a61",
   "metadata": {},
   "outputs": [
    {
     "data": {
      "text/plain": [
       "-2"
      ]
     },
     "execution_count": 32,
     "metadata": {},
     "output_type": "execute_result"
    }
   ],
   "source": [
    "b[2][2]"
   ]
  },
  {
   "cell_type": "code",
   "execution_count": 33,
   "id": "3de4dcda",
   "metadata": {},
   "outputs": [
    {
     "data": {
      "text/plain": [
       "2"
      ]
     },
     "execution_count": 33,
     "metadata": {},
     "output_type": "execute_result"
    }
   ],
   "source": [
    "b[1][0]"
   ]
  },
  {
   "cell_type": "code",
   "execution_count": 34,
   "id": "3d4cd6a2",
   "metadata": {},
   "outputs": [],
   "source": [
    "# String também podem ser manipuladas com comandos de lista\n",
    "y = '12.3 quilos'"
   ]
  },
  {
   "cell_type": "code",
   "execution_count": 35,
   "id": "e8607b17",
   "metadata": {},
   "outputs": [
    {
     "data": {
      "text/plain": [
       "str"
      ]
     },
     "execution_count": 35,
     "metadata": {},
     "output_type": "execute_result"
    }
   ],
   "source": [
    "type(y)"
   ]
  },
  {
   "cell_type": "code",
   "execution_count": 36,
   "id": "0eca45f9",
   "metadata": {},
   "outputs": [
    {
     "data": {
      "text/plain": [
       "11"
      ]
     },
     "execution_count": 36,
     "metadata": {},
     "output_type": "execute_result"
    }
   ],
   "source": [
    "len(y) # Número de caracteres"
   ]
  },
  {
   "cell_type": "code",
   "execution_count": 37,
   "id": "575f9729",
   "metadata": {},
   "outputs": [
    {
     "data": {
      "text/plain": [
       "'s'"
      ]
     },
     "execution_count": 37,
     "metadata": {},
     "output_type": "execute_result"
    }
   ],
   "source": [
    "y[-1]"
   ]
  },
  {
   "cell_type": "code",
   "execution_count": 38,
   "id": "865e0cd2",
   "metadata": {},
   "outputs": [
    {
     "data": {
      "text/plain": [
       "str"
      ]
     },
     "execution_count": 38,
     "metadata": {},
     "output_type": "execute_result"
    }
   ],
   "source": [
    "type(y[0])"
   ]
  },
  {
   "cell_type": "code",
   "execution_count": 39,
   "id": "ec00753c",
   "metadata": {},
   "outputs": [
    {
     "data": {
      "text/plain": [
       "'.'"
      ]
     },
     "execution_count": 39,
     "metadata": {},
     "output_type": "execute_result"
    }
   ],
   "source": [
    "y[2]"
   ]
  },
  {
   "cell_type": "code",
   "execution_count": 40,
   "id": "fd6db54f",
   "metadata": {},
   "outputs": [
    {
     "data": {
      "text/plain": [
       "'12.3 '"
      ]
     },
     "execution_count": 40,
     "metadata": {},
     "output_type": "execute_result"
    }
   ],
   "source": [
    "y[:5]"
   ]
  },
  {
   "cell_type": "code",
   "execution_count": 41,
   "id": "2df9346f",
   "metadata": {},
   "outputs": [
    {
     "data": {
      "text/plain": [
       "['12.3', 'quilos']"
      ]
     },
     "execution_count": 41,
     "metadata": {},
     "output_type": "execute_result"
    }
   ],
   "source": [
    "# String tem alguns métodos próprios que retornam listas\n",
    "y.split(' ')"
   ]
  },
  {
   "cell_type": "code",
   "execution_count": 42,
   "id": "9db2efa3",
   "metadata": {},
   "outputs": [
    {
     "data": {
      "text/plain": [
       "'12.3'"
      ]
     },
     "execution_count": 42,
     "metadata": {},
     "output_type": "execute_result"
    }
   ],
   "source": [
    "y.split(' ')[0]"
   ]
  },
  {
   "cell_type": "code",
   "execution_count": 43,
   "id": "ea77da6d",
   "metadata": {},
   "outputs": [
    {
     "data": {
      "text/plain": [
       "12.3"
      ]
     },
     "execution_count": 43,
     "metadata": {},
     "output_type": "execute_result"
    }
   ],
   "source": [
    "# Convertendo o número escrito em string para float\n",
    "float(y.split(' ')[0])"
   ]
  },
  {
   "cell_type": "code",
   "execution_count": 44,
   "id": "2d09103c",
   "metadata": {},
   "outputs": [
    {
     "data": {
      "text/plain": [
       "78.0"
      ]
     },
     "execution_count": 44,
     "metadata": {},
     "output_type": "execute_result"
    }
   ],
   "source": [
    "float('78')"
   ]
  },
  {
   "cell_type": "markdown",
   "id": "7eef0215",
   "metadata": {
    "jp-MarkdownHeadingCollapsed": true
   },
   "source": [
    "## Tuplas"
   ]
  },
  {
   "cell_type": "code",
   "execution_count": 45,
   "id": "59581649",
   "metadata": {},
   "outputs": [],
   "source": [
    "# Criando a tupla\n",
    "a = (1,2,3)"
   ]
  },
  {
   "cell_type": "code",
   "execution_count": 46,
   "id": "21dd0693",
   "metadata": {},
   "outputs": [
    {
     "name": "stdout",
     "output_type": "stream",
     "text": [
      "(1, 2, 3)\n"
     ]
    }
   ],
   "source": [
    "print(a)"
   ]
  },
  {
   "cell_type": "code",
   "execution_count": 47,
   "id": "6d71bce1",
   "metadata": {},
   "outputs": [
    {
     "name": "stdout",
     "output_type": "stream",
     "text": [
      "<class 'tuple'>\n"
     ]
    }
   ],
   "source": [
    "print(type(a))"
   ]
  },
  {
   "cell_type": "code",
   "execution_count": 48,
   "id": "6b974378",
   "metadata": {},
   "outputs": [
    {
     "data": {
      "text/plain": [
       "3"
      ]
     },
     "execution_count": 48,
     "metadata": {},
     "output_type": "execute_result"
    }
   ],
   "source": [
    "# Podemos obter o tamanho igual na lista\n",
    "len(a)"
   ]
  },
  {
   "cell_type": "code",
   "execution_count": 49,
   "id": "ba964441",
   "metadata": {},
   "outputs": [
    {
     "data": {
      "text/plain": [
       "1"
      ]
     },
     "execution_count": 49,
     "metadata": {},
     "output_type": "execute_result"
    }
   ],
   "source": [
    "a[0]"
   ]
  },
  {
   "cell_type": "code",
   "execution_count": 50,
   "id": "2579f941",
   "metadata": {},
   "outputs": [
    {
     "ename": "TypeError",
     "evalue": "'tuple' object does not support item assignment",
     "output_type": "error",
     "traceback": [
      "\u001b[1;31m---------------------------------------------------------------------------\u001b[0m",
      "\u001b[1;31mTypeError\u001b[0m                                 Traceback (most recent call last)",
      "Cell \u001b[1;32mIn[50], line 2\u001b[0m\n\u001b[0;32m      1\u001b[0m \u001b[38;5;66;03m# Tuplas são imutáveis\u001b[39;00m\n\u001b[1;32m----> 2\u001b[0m a[\u001b[38;5;241m0\u001b[39m]\u001b[38;5;241m=\u001b[39m\u001b[38;5;241m10\u001b[39m\n",
      "\u001b[1;31mTypeError\u001b[0m: 'tuple' object does not support item assignment"
     ]
    }
   ],
   "source": [
    "# Tuplas são imutáveis\n",
    "a[0]=10"
   ]
  },
  {
   "cell_type": "code",
   "execution_count": 51,
   "id": "c89e26ef",
   "metadata": {},
   "outputs": [
    {
     "name": "stdout",
     "output_type": "stream",
     "text": [
      "(12, 13, 14)\n"
     ]
    }
   ],
   "source": [
    "# Podemos converter uma lista em tupla\n",
    "lista = [12,13,14]\n",
    "x = tuple(lista)\n",
    "print(x)"
   ]
  },
  {
   "cell_type": "code",
   "execution_count": 52,
   "id": "3ca3a2e6",
   "metadata": {},
   "outputs": [
    {
     "name": "stdout",
     "output_type": "stream",
     "text": [
      "[12, 13, 14]\n"
     ]
    }
   ],
   "source": [
    "# Podemos converter uma tupla em lista\n",
    "tupla = (12,13,14)\n",
    "x = list(tupla)\n",
    "print(x)"
   ]
  },
  {
   "cell_type": "markdown",
   "id": "7fa1c286",
   "metadata": {
    "jp-MarkdownHeadingCollapsed": true
   },
   "source": [
    "## Conjuntos"
   ]
  },
  {
   "cell_type": "code",
   "execution_count": 53,
   "id": "4c06ca2f",
   "metadata": {},
   "outputs": [
    {
     "name": "stdout",
     "output_type": "stream",
     "text": [
      "{'maçã', 'laranja', 'banana'}\n"
     ]
    }
   ],
   "source": [
    "# Criando um conjunto\n",
    "conjunto = {\"maçã\", \"banana\", \"laranja\"}\n",
    "print(conjunto)"
   ]
  },
  {
   "cell_type": "code",
   "execution_count": 54,
   "id": "9ab975b9",
   "metadata": {},
   "outputs": [
    {
     "name": "stdout",
     "output_type": "stream",
     "text": [
      "<class 'set'>\n"
     ]
    }
   ],
   "source": [
    "print(type(conjunto))"
   ]
  },
  {
   "cell_type": "code",
   "execution_count": 55,
   "id": "820f6583",
   "metadata": {},
   "outputs": [
    {
     "name": "stdout",
     "output_type": "stream",
     "text": [
      "{'maçã', 'laranja', 'morango', 'banana'}\n"
     ]
    }
   ],
   "source": [
    "# Adicionando elementos novos ao conjunto\n",
    "conjunto.add(\"morango\")\n",
    "print(conjunto)"
   ]
  },
  {
   "cell_type": "code",
   "execution_count": 56,
   "id": "486e3f1b",
   "metadata": {},
   "outputs": [
    {
     "name": "stdout",
     "output_type": "stream",
     "text": [
      "{'maçã', 'laranja', 'morango'}\n"
     ]
    }
   ],
   "source": [
    "# Removendo um elemento do conjunto\n",
    "conjunto.remove(\"banana\")\n",
    "print(conjunto)"
   ]
  },
  {
   "cell_type": "code",
   "execution_count": 57,
   "id": "3da940e6",
   "metadata": {},
   "outputs": [
    {
     "name": "stdout",
     "output_type": "stream",
     "text": [
      "3\n"
     ]
    }
   ],
   "source": [
    "# Obtendo o tamanho do conjunto\n",
    "tamanho = len(conjunto)\n",
    "print(tamanho)"
   ]
  },
  {
   "cell_type": "code",
   "execution_count": 58,
   "id": "ed9faec6",
   "metadata": {},
   "outputs": [
    {
     "name": "stdout",
     "output_type": "stream",
     "text": [
      "{'uva', 'morango', 'abacaxi'}\n"
     ]
    }
   ],
   "source": [
    "# Criando um novo conjunto a partir de uma lista\n",
    "outra_lista = [\"uva\", \"abacaxi\", \"morango\"]\n",
    "novo_conjunto = set(outra_lista)\n",
    "print(novo_conjunto)"
   ]
  },
  {
   "cell_type": "code",
   "execution_count": 59,
   "id": "a769e787",
   "metadata": {},
   "outputs": [
    {
     "name": "stdout",
     "output_type": "stream",
     "text": [
      "{'uva', 'morango', 'abacaxi'}\n"
     ]
    }
   ],
   "source": [
    "# Um conjunto tem elementos únicos\n",
    "outra_lista = [\"uva\", \"abacaxi\", \"morango\", \"uva\", \"uva\"]\n",
    "novo_conjunto = set(outra_lista)\n",
    "print(novo_conjunto)"
   ]
  },
  {
   "cell_type": "code",
   "execution_count": 60,
   "id": "ca4849d0",
   "metadata": {},
   "outputs": [
    {
     "name": "stdout",
     "output_type": "stream",
     "text": [
      "União dos conjuntos: {1, 2, 3, 4, 5, 6, 7, 8}\n",
      "Interseção dos conjuntos: {4, 5}\n",
      "Diferença entre os conjuntos A e B: {1, 2, 3}\n"
     ]
    }
   ],
   "source": [
    "# Realizando operações de conjuntos (união, interseção, diferença)\n",
    "conjunto_a = {1, 2, 3, 4, 5}\n",
    "conjunto_b = {4, 5, 6, 7, 8}\n",
    "\n",
    "# União\n",
    "uniao = conjunto_a.union(conjunto_b)\n",
    "print(\"União dos conjuntos:\", uniao)\n",
    "\n",
    "# Interseção\n",
    "intersecao = conjunto_a.intersection(conjunto_b)\n",
    "print(\"Interseção dos conjuntos:\", intersecao)\n",
    "\n",
    "# Diferença\n",
    "diferenca = conjunto_a.difference(conjunto_b)\n",
    "print(\"Diferença entre os conjuntos A e B:\", diferenca)"
   ]
  },
  {
   "cell_type": "markdown",
   "id": "ba6a23ff",
   "metadata": {
    "jp-MarkdownHeadingCollapsed": true
   },
   "source": [
    "## Dicionários"
   ]
  },
  {
   "cell_type": "code",
   "execution_count": 61,
   "id": "f834d90c",
   "metadata": {},
   "outputs": [],
   "source": [
    "# Criando o dicionário\n",
    "dicionario = {\n",
    "    \"nome\": \"João\",\n",
    "    \"idade\": 30,\n",
    "    \"cidade\": \"São Paulo\"\n",
    "}"
   ]
  },
  {
   "cell_type": "code",
   "execution_count": 62,
   "id": "b7977681",
   "metadata": {},
   "outputs": [
    {
     "name": "stdout",
     "output_type": "stream",
     "text": [
      "{'nome': 'João', 'idade': 30, 'cidade': 'São Paulo'}\n",
      "<class 'dict'>\n"
     ]
    }
   ],
   "source": [
    "print(dicionario)\n",
    "print(type(dicionario))"
   ]
  },
  {
   "cell_type": "code",
   "execution_count": 63,
   "id": "74a3e044",
   "metadata": {},
   "outputs": [
    {
     "name": "stdout",
     "output_type": "stream",
     "text": [
      "João\n"
     ]
    }
   ],
   "source": [
    "# Selecionando uma entrada no dicionário\n",
    "print(dicionario[\"nome\"])"
   ]
  },
  {
   "cell_type": "code",
   "execution_count": 64,
   "id": "8967ff4b",
   "metadata": {},
   "outputs": [
    {
     "name": "stdout",
     "output_type": "stream",
     "text": [
      "{'nome': 'João', 'idade': 30, 'cidade': 'São Paulo', 'profissão': 'Engenheiro'}\n"
     ]
    }
   ],
   "source": [
    "# Criando uma nova entrada no dicionário\n",
    "dicionario[\"profissão\"] = \"Engenheiro\"\n",
    "print(dicionario)"
   ]
  },
  {
   "cell_type": "code",
   "execution_count": 65,
   "id": "69e836e5",
   "metadata": {},
   "outputs": [
    {
     "name": "stdout",
     "output_type": "stream",
     "text": [
      "{'nome': 'João', 'cidade': 'São Paulo', 'profissão': 'Engenheiro'}\n"
     ]
    }
   ],
   "source": [
    "# Deletando uma entrada do dicionário\n",
    "del dicionario[\"idade\"]\n",
    "print(dicionario)"
   ]
  },
  {
   "cell_type": "code",
   "execution_count": 66,
   "id": "675b0ec5",
   "metadata": {},
   "outputs": [
    {
     "name": "stdout",
     "output_type": "stream",
     "text": [
      "dict_keys(['nome', 'cidade', 'profissão'])\n"
     ]
    }
   ],
   "source": [
    "# Pegando as chaves do dicionário\n",
    "chaves = dicionario.keys()\n",
    "print(chaves)"
   ]
  },
  {
   "cell_type": "code",
   "execution_count": 67,
   "id": "751526d1",
   "metadata": {},
   "outputs": [
    {
     "data": {
      "text/plain": [
       "'cidade'"
      ]
     },
     "execution_count": 67,
     "metadata": {},
     "output_type": "execute_result"
    }
   ],
   "source": [
    "list(chaves)[1]"
   ]
  },
  {
   "cell_type": "code",
   "execution_count": 68,
   "id": "8211f624",
   "metadata": {},
   "outputs": [
    {
     "name": "stdout",
     "output_type": "stream",
     "text": [
      "dict_values(['João', 'São Paulo', 'Engenheiro'])\n"
     ]
    }
   ],
   "source": [
    "# Pegando os valores do dicionário\n",
    "valores = dicionario.values()\n",
    "print(valores)"
   ]
  }
 ],
 "metadata": {
  "kernelspec": {
   "display_name": "Python 3 (ipykernel)",
   "language": "python",
   "name": "python3"
  },
  "language_info": {
   "codemirror_mode": {
    "name": "ipython",
    "version": 3
   },
   "file_extension": ".py",
   "mimetype": "text/x-python",
   "name": "python",
   "nbconvert_exporter": "python",
   "pygments_lexer": "ipython3",
   "version": "3.12.4"
  }
 },
 "nbformat": 4,
 "nbformat_minor": 5
}
