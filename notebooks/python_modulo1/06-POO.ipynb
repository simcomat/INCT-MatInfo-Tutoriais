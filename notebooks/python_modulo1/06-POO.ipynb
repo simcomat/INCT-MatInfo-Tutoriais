{
 "cells": [
  {
   "cell_type": "markdown",
   "id": "134f1b15-f2e0-45a1-8c9c-1738d52c66be",
   "metadata": {},
   "source": [
    "# 6 - Orientação a Objetos\n",
    "\n",
    "Orientação a Objetos (OO) é um paradigma de programação que organiza o código de forma a utilizar objetos como a unidade fundamental. Em vez de tratar o programa como uma sequência de instruções, como na programação imperativa, a orientação a objetos foca em modelar entidades do mundo real (ou conceitos abstratos) como objetos que possuem atributos (dados) e comportamentos (métodos)."
   ]
  },
  {
   "cell_type": "markdown",
   "id": "63867025-c91d-43ab-a411-3324a3826649",
   "metadata": {
    "jp-MarkdownHeadingCollapsed": true
   },
   "source": [
    "## Classes, Métodos e Atributos"
   ]
  },
  {
   "cell_type": "code",
   "execution_count": 1,
   "id": "08a94226-0dc8-4e54-bbe4-70c9ede46c78",
   "metadata": {},
   "outputs": [],
   "source": [
    "# Definindo a classe Carro\n",
    "class Carro:\n",
    "    # Inicializando o carro com atributos: modelo, cor e ano\n",
    "    def __init__(self, modelo, cor, ano):\n",
    "        self.modelo = modelo\n",
    "        self.cor = cor\n",
    "        self.ano = ano\n",
    "        self.ligado = False  # Inicialmente o carro não está ligado\n",
    "\n",
    "    # Método para ligar o carro\n",
    "    def ligar(self):\n",
    "        if not self.ligado:\n",
    "            self.ligado = True\n",
    "            print(f\"{self.modelo} está ligado!\")\n",
    "        else:\n",
    "            print(f\"{self.modelo} já está ligado.\")\n",
    "\n",
    "    # Método para desligar o carro\n",
    "    def desligar(self):\n",
    "        if self.ligado:\n",
    "            self.ligado = False\n",
    "            print(f\"{self.modelo} foi desligado.\")\n",
    "        else:\n",
    "            print(f\"{self.modelo} já está desligado.\")\n",
    "\n",
    "    # Método para exibir informações sobre o carro\n",
    "    def mostrar_info(self):\n",
    "        estado = \"ligado\" if self.ligado else \"desligado\"\n",
    "        print(f\"Carro: {self.modelo}, Cor: {self.cor}, Ano: {self.ano}, Estado: {estado}\")"
   ]
  },
  {
   "cell_type": "code",
   "execution_count": 2,
   "id": "fc8542be-a9cd-4c47-b85f-48dd8a14da6b",
   "metadata": {},
   "outputs": [],
   "source": [
    "# Criando instâncias (objetos) da classe Carro\n",
    "carro1 = Carro(\"Fusca\", \"azul\", 1985)\n",
    "carro2 = Carro(\"Civic\", \"preto\", 2020)"
   ]
  },
  {
   "cell_type": "code",
   "execution_count": 3,
   "id": "0fc4ad7b-f835-43ba-815e-7471c6145287",
   "metadata": {},
   "outputs": [
    {
     "data": {
      "text/plain": [
       "'Fusca'"
      ]
     },
     "execution_count": 3,
     "metadata": {},
     "output_type": "execute_result"
    }
   ],
   "source": [
    "carro1.modelo  # Acessando atributos do objeto"
   ]
  },
  {
   "cell_type": "code",
   "execution_count": 4,
   "id": "41134821-6657-4b46-a940-26af14e5c1af",
   "metadata": {},
   "outputs": [
    {
     "name": "stdout",
     "output_type": "stream",
     "text": [
      "Carro: Fusca, Cor: azul, Ano: 1985, Estado: desligado\n",
      "Fusca está ligado!\n",
      "Carro: Fusca, Cor: azul, Ano: 1985, Estado: ligado\n"
     ]
    }
   ],
   "source": [
    "# Interagindo com os objetos (Métodos)\n",
    "carro1.mostrar_info()\n",
    "carro1.ligar()\n",
    "carro1.mostrar_info()"
   ]
  },
  {
   "cell_type": "code",
   "execution_count": 5,
   "id": "373f1ece-d378-4403-8bfc-7d72593928f0",
   "metadata": {},
   "outputs": [
    {
     "name": "stdout",
     "output_type": "stream",
     "text": [
      "Carro: Civic, Cor: preto, Ano: 2020, Estado: desligado\n",
      "Civic já está desligado.\n"
     ]
    }
   ],
   "source": [
    "# Interagindo com os objetos (Métodos)\n",
    "carro2.mostrar_info() \n",
    "carro2.desligar()"
   ]
  },
  {
   "cell_type": "markdown",
   "id": "dd256e1b-f20f-424d-aa30-aa1d0a314950",
   "metadata": {},
   "source": [
    "### Exemplo de aplicação: Simuladores\n",
    "\n",
    "Vamos ver um exemplo de um simulador de ecologia.\n",
    "\n",
    "Primeiro vamos definir uma classe para representar Pássaros:"
   ]
  },
  {
   "cell_type": "code",
   "execution_count": 6,
   "id": "d32ce174-bf27-4869-8f19-253a3740e6f7",
   "metadata": {},
   "outputs": [],
   "source": [
    "class Passaro:\n",
    "    def __init__(self, nome):\n",
    "        self.nome = nome\n",
    "        self.fome = 0  # Inicialmente sem fome\n",
    "\n",
    "    def aumentar_fome(self):\n",
    "        \"\"\"Aumenta a fome do pássaro a cada turno.\"\"\"\n",
    "        self.fome += 1\n",
    "        print(f\"A fome de {self.nome} aumentou 1 unidade e agora está em {self.fome} unidade(s) de fome.\")\n",
    "\n",
    "    def comer(self, minhocas_comidas):\n",
    "        \"\"\"O pássaro come minhocas e reduz sua fome.\"\"\"\n",
    "        if minhocas_comidas == 0:\n",
    "            print(f\"{self.nome} não comeu nenhuma minhoca e sua fome atual é de {self.fome}.\")\n",
    "        else:\n",
    "            fome_antes = self.fome\n",
    "            self.fome -= minhocas_comidas * 2\n",
    "            print(f\"{self.nome} comeu {minhocas_comidas} minhoca(s) e sua fome foi reduzida de {fome_antes} para {self.fome}.\")"
   ]
  },
  {
   "cell_type": "code",
   "execution_count": 7,
   "id": "d1c1ced8-da42-43d0-a8d8-a988d5566024",
   "metadata": {},
   "outputs": [
    {
     "data": {
      "text/plain": [
       "'P1'"
      ]
     },
     "execution_count": 7,
     "metadata": {},
     "output_type": "execute_result"
    }
   ],
   "source": [
    "passaro1 = Passaro(\"P1\")\n",
    "passaro1.nome"
   ]
  },
  {
   "cell_type": "code",
   "execution_count": 8,
   "id": "a2fec237-db3d-4d37-bee9-943789741307",
   "metadata": {},
   "outputs": [
    {
     "data": {
      "text/plain": [
       "0"
      ]
     },
     "execution_count": 8,
     "metadata": {},
     "output_type": "execute_result"
    }
   ],
   "source": [
    "passaro1.fome"
   ]
  },
  {
   "cell_type": "code",
   "execution_count": 9,
   "id": "2e8f4c1d-a05f-453c-ac5c-7d30f372b61a",
   "metadata": {},
   "outputs": [
    {
     "name": "stdout",
     "output_type": "stream",
     "text": [
      "A fome de P1 aumentou 1 unidade e agora está em 1 unidade(s) de fome.\n"
     ]
    }
   ],
   "source": [
    "passaro1.aumentar_fome()"
   ]
  },
  {
   "cell_type": "code",
   "execution_count": 10,
   "id": "8478b173-a8b6-45e4-806f-fde8680d4e12",
   "metadata": {},
   "outputs": [
    {
     "data": {
      "text/plain": [
       "1"
      ]
     },
     "execution_count": 10,
     "metadata": {},
     "output_type": "execute_result"
    }
   ],
   "source": [
    "passaro1.fome"
   ]
  },
  {
   "cell_type": "code",
   "execution_count": 11,
   "id": "1252766c-bd4c-4e1c-a5ad-b6d9574eb75e",
   "metadata": {},
   "outputs": [
    {
     "name": "stdout",
     "output_type": "stream",
     "text": [
      "P1 comeu 2 minhoca(s) e sua fome foi reduzida de 1 para -3.\n"
     ]
    }
   ],
   "source": [
    "passaro1.comer(minhocas_comidas = 2)"
   ]
  },
  {
   "cell_type": "code",
   "execution_count": 12,
   "id": "3aad4f5c-1e10-4e76-a4f7-0f5cc7833434",
   "metadata": {},
   "outputs": [
    {
     "data": {
      "text/plain": [
       "-3"
      ]
     },
     "execution_count": 12,
     "metadata": {},
     "output_type": "execute_result"
    }
   ],
   "source": [
    "passaro1.fome"
   ]
  },
  {
   "cell_type": "markdown",
   "id": "e9695960-83a3-483b-bcd8-128938a543dd",
   "metadata": {},
   "source": [
    "Agora vamos criar Minhocas e um Ambiente:"
   ]
  },
  {
   "cell_type": "code",
   "execution_count": 13,
   "id": "3e8b4a8c-ca68-48e7-a95b-3cb341f88ae0",
   "metadata": {},
   "outputs": [],
   "source": [
    "class Minhocas:\n",
    "    def __init__(self, quantidade):\n",
    "        self.quantidade = quantidade\n",
    "\n",
    "    def surgir(self):\n",
    "        \"\"\"Surgem novas minhocas de acordo com a quantidade disponível.\"\"\"\n",
    "        if 10 <= self.quantidade < 20:\n",
    "            novas_minhas = 5\n",
    "        elif self.quantidade < 10:\n",
    "            novas_minhas = 2\n",
    "        else:\n",
    "            novas_minhas = 1\n",
    "        self.quantidade += novas_minhas\n",
    "        print(f\"Surgiram {novas_minhas} minhocas. Agora há {self.quantidade} minhocas no total.\")"
   ]
  },
  {
   "cell_type": "code",
   "execution_count": 14,
   "id": "94656adc-7c40-4d4e-b1ec-434604b74521",
   "metadata": {},
   "outputs": [],
   "source": [
    "import random\n",
    "\n",
    "class Ambiente:\n",
    "    def __init__(self, quantidade_minhocas):\n",
    "        self.minhocas = Minhocas(quantidade_minhocas)\n",
    "        self.passaros = []\n",
    "\n",
    "    def adicionar_passaro(self, passaro):\n",
    "        \"\"\"Adiciona um pássaro ao ambiente.\"\"\"\n",
    "        self.passaros.append(passaro)\n",
    "\n",
    "    def turno(self):\n",
    "        \"\"\"Simula um turno no ambiente.\"\"\"\n",
    "        print(\"\\n--- Novo Turno ---\")\n",
    "        \n",
    "        # Aumenta a fome de todos os pássaros\n",
    "        for passaro in self.passaros:\n",
    "            passaro.aumentar_fome()\n",
    "        \n",
    "        # Surjem novas minhocas no ambiente\n",
    "        self.minhocas.surgir()\n",
    "\n",
    "        # Cada pássaro come de 0 a 3 minhocas\n",
    "        for passaro in self.passaros:\n",
    "            if self.minhocas.quantidade > 0:\n",
    "                # O pássaro pode comer entre 0 e 3 minhocas, mas não pode comer mais do que o número de minhocas disponíveis\n",
    "                minhocas_comidas = random.randint(0, min(3, self.minhocas.quantidade))\n",
    "                print(f\"{passaro.nome} comeu {minhocas_comidas} minhoca(s).\")\n",
    "                passaro.comer(minhocas_comidas)\n",
    "                self.minhocas.quantidade -= minhocas_comidas  # Reduz as minhocas disponíveis\n",
    "\n",
    "        # Exibe o estado final do ambiente\n",
    "        print(f\"\\nEstado final do ambiente: {self.minhocas.quantidade} minhocas restantes.\")"
   ]
  },
  {
   "cell_type": "markdown",
   "id": "d6d7372e-dce9-4689-a950-b2367850393a",
   "metadata": {},
   "source": [
    "Simulando o ambiente:"
   ]
  },
  {
   "cell_type": "code",
   "execution_count": 15,
   "id": "5ce2dff9-8781-4a36-929a-86ac11ec41d7",
   "metadata": {},
   "outputs": [
    {
     "name": "stdout",
     "output_type": "stream",
     "text": [
      "\n",
      "--- Novo Turno ---\n",
      "A fome de P1 aumentou 1 unidade e agora está em 1 unidade(s) de fome.\n",
      "A fome de P2 aumentou 1 unidade e agora está em 1 unidade(s) de fome.\n",
      "Surgiram 5 minhocas. Agora há 15 minhocas no total.\n",
      "P1 comeu 3 minhoca(s).\n",
      "P1 comeu 3 minhoca(s) e sua fome foi reduzida de 1 para -5.\n",
      "P2 comeu 2 minhoca(s).\n",
      "P2 comeu 2 minhoca(s) e sua fome foi reduzida de 1 para -3.\n",
      "\n",
      "Estado final do ambiente: 10 minhocas restantes.\n",
      "\n",
      "--- Novo Turno ---\n",
      "A fome de P1 aumentou 1 unidade e agora está em -4 unidade(s) de fome.\n",
      "A fome de P2 aumentou 1 unidade e agora está em -2 unidade(s) de fome.\n",
      "Surgiram 5 minhocas. Agora há 15 minhocas no total.\n",
      "P1 comeu 2 minhoca(s).\n",
      "P1 comeu 2 minhoca(s) e sua fome foi reduzida de -4 para -8.\n",
      "P2 comeu 3 minhoca(s).\n",
      "P2 comeu 3 minhoca(s) e sua fome foi reduzida de -2 para -8.\n",
      "\n",
      "Estado final do ambiente: 10 minhocas restantes.\n",
      "\n",
      "--- Novo Turno ---\n",
      "A fome de P1 aumentou 1 unidade e agora está em -7 unidade(s) de fome.\n",
      "A fome de P2 aumentou 1 unidade e agora está em -7 unidade(s) de fome.\n",
      "Surgiram 5 minhocas. Agora há 15 minhocas no total.\n",
      "P1 comeu 3 minhoca(s).\n",
      "P1 comeu 3 minhoca(s) e sua fome foi reduzida de -7 para -13.\n",
      "P2 comeu 2 minhoca(s).\n",
      "P2 comeu 2 minhoca(s) e sua fome foi reduzida de -7 para -11.\n",
      "\n",
      "Estado final do ambiente: 10 minhocas restantes.\n",
      "\n",
      "--- Novo Turno ---\n",
      "A fome de P1 aumentou 1 unidade e agora está em -12 unidade(s) de fome.\n",
      "A fome de P2 aumentou 1 unidade e agora está em -10 unidade(s) de fome.\n",
      "Surgiram 5 minhocas. Agora há 15 minhocas no total.\n",
      "P1 comeu 0 minhoca(s).\n",
      "P1 não comeu nenhuma minhoca e sua fome atual é de -12.\n",
      "P2 comeu 1 minhoca(s).\n",
      "P2 comeu 1 minhoca(s) e sua fome foi reduzida de -10 para -12.\n",
      "\n",
      "Estado final do ambiente: 14 minhocas restantes.\n",
      "\n",
      "--- Novo Turno ---\n",
      "A fome de P1 aumentou 1 unidade e agora está em -11 unidade(s) de fome.\n",
      "A fome de P2 aumentou 1 unidade e agora está em -11 unidade(s) de fome.\n",
      "Surgiram 5 minhocas. Agora há 19 minhocas no total.\n",
      "P1 comeu 1 minhoca(s).\n",
      "P1 comeu 1 minhoca(s) e sua fome foi reduzida de -11 para -13.\n",
      "P2 comeu 2 minhoca(s).\n",
      "P2 comeu 2 minhoca(s) e sua fome foi reduzida de -11 para -15.\n",
      "\n",
      "Estado final do ambiente: 16 minhocas restantes.\n"
     ]
    }
   ],
   "source": [
    "# Criando ambiente e pássaros\n",
    "ambiente = Ambiente(quantidade_minhocas=10)\n",
    "passaro1 = Passaro(\"P1\")\n",
    "passaro2 = Passaro(\"P2\")\n",
    "\n",
    "ambiente.adicionar_passaro(passaro1)\n",
    "ambiente.adicionar_passaro(passaro2)\n",
    "\n",
    "# Simulando 5 turnos\n",
    "for _ in range(5):\n",
    "    ambiente.turno()"
   ]
  },
  {
   "cell_type": "markdown",
   "id": "f3b0b337-39a5-4b89-a963-c81a123cd24d",
   "metadata": {
    "jp-MarkdownHeadingCollapsed": true
   },
   "source": [
    "## Herança e Polimorfismo\n",
    "\n",
    "Polimorfismo e Herança são dois dos conceitos fundamentais da Programação Orientada a Objetos (OO), usados para aumentar a flexibilidade e a reutilização de código.\n",
    "\n",
    "O polimorfismo permite que diferentes objetos, de diferentes classes, respondam ao mesmo método de maneiras diferentes.\n",
    "\n",
    "A herança é um mecanismo onde uma classe filha herda atributos e métodos de uma classe pai (ou superclasse). Isso permite que a classe filha reutilize código da classe pai e, se necessário, modifique ou adicione funcionalidades."
   ]
  },
  {
   "cell_type": "code",
   "execution_count": 16,
   "id": "476a4fef-ac7f-4609-8271-a99849ed7763",
   "metadata": {},
   "outputs": [],
   "source": [
    "# Classe base (superclasse)\n",
    "class Animal:\n",
    "    def __init__(self, nome):\n",
    "        self.nome = nome\n",
    "    def dormir(self):\n",
    "        print(f\"{self.nome} está dormindo.\")\n",
    "    def fazer_som(self):\n",
    "        raise NotImplementedError(\"Este método deve ser implementado por uma subclasse\")\n",
    "\n",
    "# Classe derivada (subclasse)\n",
    "class Cachorro(Animal):\n",
    "    def fazer_som(self):\n",
    "        print(\"Au au!\")\n",
    "    def abanar_rabo(self):\n",
    "        print(f\"{self.nome} está abanando o rabo!\")\n",
    "\n",
    "# Classe derivada (subclasse)\n",
    "class Gato(Animal):\n",
    "    def fazer_som(self):\n",
    "        print(\"Miau!\")\n",
    "\n",
    "# Usando polimorfismo\n",
    "def emitir_som_do_animal(animal):\n",
    "    animal.fazer_som()"
   ]
  },
  {
   "cell_type": "code",
   "execution_count": 17,
   "id": "674aaa1e-3d09-419b-9eb6-d62b9117c649",
   "metadata": {},
   "outputs": [
    {
     "name": "stdout",
     "output_type": "stream",
     "text": [
      "Au au!\n",
      "Miau!\n"
     ]
    }
   ],
   "source": [
    "# Criando instâncias dos objetos\n",
    "cachorro = Cachorro(nome='C1')\n",
    "gato = Gato(nome='G1')\n",
    "\n",
    "# Chama o mesmo método para objetos diferentes\n",
    "emitir_som_do_animal(cachorro)\n",
    "emitir_som_do_animal(gato)"
   ]
  },
  {
   "cell_type": "code",
   "execution_count": 18,
   "id": "ea2b5d62-842f-4271-bfbd-fba769c15ec2",
   "metadata": {},
   "outputs": [
    {
     "name": "stdout",
     "output_type": "stream",
     "text": [
      "Rex está dormindo.\n",
      "Rex está abanando o rabo!\n"
     ]
    }
   ],
   "source": [
    "# Criando um objeto da classe Cachorro (que herda de Animal)\n",
    "meu_cachorro = Cachorro(\"Rex\")\n",
    "\n",
    "# A classe Cachorro herda o método dormir de Animal\n",
    "meu_cachorro.dormir()  # Saída: Rex está dormindo.\n",
    "\n",
    "# A classe Cachorro também tem seu próprio método abanar o rabo\n",
    "meu_cachorro.abanar_rabo()   "
   ]
  }
 ],
 "metadata": {
  "kernelspec": {
   "display_name": "Python 3 (ipykernel)",
   "language": "python",
   "name": "python3"
  },
  "language_info": {
   "codemirror_mode": {
    "name": "ipython",
    "version": 3
   },
   "file_extension": ".py",
   "mimetype": "text/x-python",
   "name": "python",
   "nbconvert_exporter": "python",
   "pygments_lexer": "ipython3",
   "version": "3.12.4"
  }
 },
 "nbformat": 4,
 "nbformat_minor": 5
}
